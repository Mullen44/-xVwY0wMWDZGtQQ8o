{
 "cells": [
  {
   "cell_type": "markdown",
   "metadata": {},
   "source": [
    "# Happy Customers\n",
    "This program takes in a csv file of survey data from a client and uses it to train a machine learning model to predict customer happiness.\n",
    "The CSV file contains 7 features. The Y value will be a binary happiness value while the other features are integers from 1-5.  These attributes are as follows:\n",
    "\n",
    "X1 - The order was delivered on time\n",
    "\n",
    "X2 - The contents of the order was as expected\n",
    "\n",
    "X3 - Ordered everything they wanted to\n",
    "\n",
    "X4 - Paid a good price for the order\n",
    "\n",
    "X5 - Satisfied with the order\n",
    "\n",
    "X6 - The app made ordering easy\n",
    "\n",
    "Further analysis will be done to learn which attributes most significantly affect customer happiness"
   ]
  },
  {
   "cell_type": "code",
   "execution_count": 1,
   "metadata": {},
   "outputs": [],
   "source": [
    "## Import Modules\n",
    "import numpy as np\n",
    "import sklearn\n",
    "from sklearn.model_selection import train_test_split\n",
    "import csv\n",
    "import matplotlib.pyplot as plt\n",
    "import random\n",
    "import pandas as pd\n",
    "import seaborn as sn\n",
    "from sklearn.metrics import confusion_matrix, classification_report, f1_score                                                                                                                                                                                                                                                                                           "
   ]
  },
  {
   "cell_type": "code",
   "execution_count": 2,
   "metadata": {},
   "outputs": [
    {
     "data": {
      "text/html": [
       "<div>\n",
       "<style scoped>\n",
       "    .dataframe tbody tr th:only-of-type {\n",
       "        vertical-align: middle;\n",
       "    }\n",
       "\n",
       "    .dataframe tbody tr th {\n",
       "        vertical-align: top;\n",
       "    }\n",
       "\n",
       "    .dataframe thead th {\n",
       "        text-align: right;\n",
       "    }\n",
       "</style>\n",
       "<table border=\"1\" class=\"dataframe\">\n",
       "  <thead>\n",
       "    <tr style=\"text-align: right;\">\n",
       "      <th></th>\n",
       "      <th>happinessStatus</th>\n",
       "      <th>onTime</th>\n",
       "      <th>expectedContents</th>\n",
       "      <th>allOrdered</th>\n",
       "      <th>goodPrice</th>\n",
       "      <th>orderSatisfication</th>\n",
       "      <th>easyOrdering</th>\n",
       "    </tr>\n",
       "  </thead>\n",
       "  <tbody>\n",
       "    <tr>\n",
       "      <th>0</th>\n",
       "      <td>0</td>\n",
       "      <td>3</td>\n",
       "      <td>3</td>\n",
       "      <td>3</td>\n",
       "      <td>4</td>\n",
       "      <td>2</td>\n",
       "      <td>4</td>\n",
       "    </tr>\n",
       "    <tr>\n",
       "      <th>1</th>\n",
       "      <td>0</td>\n",
       "      <td>3</td>\n",
       "      <td>2</td>\n",
       "      <td>3</td>\n",
       "      <td>5</td>\n",
       "      <td>4</td>\n",
       "      <td>3</td>\n",
       "    </tr>\n",
       "    <tr>\n",
       "      <th>2</th>\n",
       "      <td>1</td>\n",
       "      <td>5</td>\n",
       "      <td>3</td>\n",
       "      <td>3</td>\n",
       "      <td>3</td>\n",
       "      <td>3</td>\n",
       "      <td>5</td>\n",
       "    </tr>\n",
       "    <tr>\n",
       "      <th>3</th>\n",
       "      <td>0</td>\n",
       "      <td>5</td>\n",
       "      <td>4</td>\n",
       "      <td>3</td>\n",
       "      <td>3</td>\n",
       "      <td>3</td>\n",
       "      <td>5</td>\n",
       "    </tr>\n",
       "    <tr>\n",
       "      <th>4</th>\n",
       "      <td>0</td>\n",
       "      <td>5</td>\n",
       "      <td>4</td>\n",
       "      <td>3</td>\n",
       "      <td>3</td>\n",
       "      <td>3</td>\n",
       "      <td>5</td>\n",
       "    </tr>\n",
       "  </tbody>\n",
       "</table>\n",
       "</div>"
      ],
      "text/plain": [
       "   happinessStatus  onTime  expectedContents  allOrdered  goodPrice  \\\n",
       "0                0       3                 3           3          4   \n",
       "1                0       3                 2           3          5   \n",
       "2                1       5                 3           3          3   \n",
       "3                0       5                 4           3          3   \n",
       "4                0       5                 4           3          3   \n",
       "\n",
       "   orderSatisfication  easyOrdering  \n",
       "0                   2             4  \n",
       "1                   4             3  \n",
       "2                   3             5  \n",
       "3                   3             5  \n",
       "4                   3             5  "
      ]
     },
     "execution_count": 2,
     "metadata": {},
     "output_type": "execute_result"
    }
   ],
   "source": [
    "# Read in data\n",
    "path = 'data.csv'\n",
    "data = pd.read_csv(path)\n",
    "data.columns = ['happinessStatus', 'onTime', 'expectedContents', \n",
    "                'allOrdered', 'goodPrice', 'orderSatisfication', 'easyOrdering']\n",
    "data.head()"
   ]
  },
  {
   "cell_type": "markdown",
   "metadata": {},
   "source": [
    "# Visualize the data"
   ]
  },
  {
   "cell_type": "code",
   "execution_count": 3,
   "metadata": {},
   "outputs": [
    {
     "name": "stdout",
     "output_type": "stream",
     "text": [
      "<class 'pandas.core.frame.DataFrame'>\n",
      "RangeIndex: 126 entries, 0 to 125\n",
      "Data columns (total 7 columns):\n",
      " #   Column              Non-Null Count  Dtype\n",
      "---  ------              --------------  -----\n",
      " 0   happinessStatus     126 non-null    int64\n",
      " 1   onTime              126 non-null    int64\n",
      " 2   expectedContents    126 non-null    int64\n",
      " 3   allOrdered          126 non-null    int64\n",
      " 4   goodPrice           126 non-null    int64\n",
      " 5   orderSatisfication  126 non-null    int64\n",
      " 6   easyOrdering        126 non-null    int64\n",
      "dtypes: int64(7)\n",
      "memory usage: 7.0 KB\n"
     ]
    }
   ],
   "source": [
    "data.info()"
   ]
  },
  {
   "cell_type": "code",
   "execution_count": 4,
   "metadata": {},
   "outputs": [
    {
     "data": {
      "text/html": [
       "<div>\n",
       "<style scoped>\n",
       "    .dataframe tbody tr th:only-of-type {\n",
       "        vertical-align: middle;\n",
       "    }\n",
       "\n",
       "    .dataframe tbody tr th {\n",
       "        vertical-align: top;\n",
       "    }\n",
       "\n",
       "    .dataframe thead th {\n",
       "        text-align: right;\n",
       "    }\n",
       "</style>\n",
       "<table border=\"1\" class=\"dataframe\">\n",
       "  <thead>\n",
       "    <tr style=\"text-align: right;\">\n",
       "      <th></th>\n",
       "      <th>happinessStatus</th>\n",
       "      <th>onTime</th>\n",
       "      <th>expectedContents</th>\n",
       "      <th>allOrdered</th>\n",
       "      <th>goodPrice</th>\n",
       "      <th>orderSatisfication</th>\n",
       "      <th>easyOrdering</th>\n",
       "    </tr>\n",
       "  </thead>\n",
       "  <tbody>\n",
       "    <tr>\n",
       "      <th>count</th>\n",
       "      <td>126.000000</td>\n",
       "      <td>126.000000</td>\n",
       "      <td>126.000000</td>\n",
       "      <td>126.000000</td>\n",
       "      <td>126.000000</td>\n",
       "      <td>126.000000</td>\n",
       "      <td>126.000000</td>\n",
       "    </tr>\n",
       "    <tr>\n",
       "      <th>mean</th>\n",
       "      <td>0.547619</td>\n",
       "      <td>4.333333</td>\n",
       "      <td>2.531746</td>\n",
       "      <td>3.309524</td>\n",
       "      <td>3.746032</td>\n",
       "      <td>3.650794</td>\n",
       "      <td>4.253968</td>\n",
       "    </tr>\n",
       "    <tr>\n",
       "      <th>std</th>\n",
       "      <td>0.499714</td>\n",
       "      <td>0.800000</td>\n",
       "      <td>1.114892</td>\n",
       "      <td>1.023440</td>\n",
       "      <td>0.875776</td>\n",
       "      <td>1.147641</td>\n",
       "      <td>0.809311</td>\n",
       "    </tr>\n",
       "    <tr>\n",
       "      <th>min</th>\n",
       "      <td>0.000000</td>\n",
       "      <td>1.000000</td>\n",
       "      <td>1.000000</td>\n",
       "      <td>1.000000</td>\n",
       "      <td>1.000000</td>\n",
       "      <td>1.000000</td>\n",
       "      <td>1.000000</td>\n",
       "    </tr>\n",
       "    <tr>\n",
       "      <th>25%</th>\n",
       "      <td>0.000000</td>\n",
       "      <td>4.000000</td>\n",
       "      <td>2.000000</td>\n",
       "      <td>3.000000</td>\n",
       "      <td>3.000000</td>\n",
       "      <td>3.000000</td>\n",
       "      <td>4.000000</td>\n",
       "    </tr>\n",
       "    <tr>\n",
       "      <th>50%</th>\n",
       "      <td>1.000000</td>\n",
       "      <td>5.000000</td>\n",
       "      <td>3.000000</td>\n",
       "      <td>3.000000</td>\n",
       "      <td>4.000000</td>\n",
       "      <td>4.000000</td>\n",
       "      <td>4.000000</td>\n",
       "    </tr>\n",
       "    <tr>\n",
       "      <th>75%</th>\n",
       "      <td>1.000000</td>\n",
       "      <td>5.000000</td>\n",
       "      <td>3.000000</td>\n",
       "      <td>4.000000</td>\n",
       "      <td>4.000000</td>\n",
       "      <td>4.000000</td>\n",
       "      <td>5.000000</td>\n",
       "    </tr>\n",
       "    <tr>\n",
       "      <th>max</th>\n",
       "      <td>1.000000</td>\n",
       "      <td>5.000000</td>\n",
       "      <td>5.000000</td>\n",
       "      <td>5.000000</td>\n",
       "      <td>5.000000</td>\n",
       "      <td>5.000000</td>\n",
       "      <td>5.000000</td>\n",
       "    </tr>\n",
       "  </tbody>\n",
       "</table>\n",
       "</div>"
      ],
      "text/plain": [
       "       happinessStatus      onTime  expectedContents  allOrdered   goodPrice  \\\n",
       "count       126.000000  126.000000        126.000000  126.000000  126.000000   \n",
       "mean          0.547619    4.333333          2.531746    3.309524    3.746032   \n",
       "std           0.499714    0.800000          1.114892    1.023440    0.875776   \n",
       "min           0.000000    1.000000          1.000000    1.000000    1.000000   \n",
       "25%           0.000000    4.000000          2.000000    3.000000    3.000000   \n",
       "50%           1.000000    5.000000          3.000000    3.000000    4.000000   \n",
       "75%           1.000000    5.000000          3.000000    4.000000    4.000000   \n",
       "max           1.000000    5.000000          5.000000    5.000000    5.000000   \n",
       "\n",
       "       orderSatisfication  easyOrdering  \n",
       "count          126.000000    126.000000  \n",
       "mean             3.650794      4.253968  \n",
       "std              1.147641      0.809311  \n",
       "min              1.000000      1.000000  \n",
       "25%              3.000000      4.000000  \n",
       "50%              4.000000      4.000000  \n",
       "75%              4.000000      5.000000  \n",
       "max              5.000000      5.000000  "
      ]
     },
     "execution_count": 4,
     "metadata": {},
     "output_type": "execute_result"
    }
   ],
   "source": [
    "data.describe()"
   ]
  },
  {
   "cell_type": "code",
   "execution_count": 5,
   "metadata": {},
   "outputs": [
    {
     "data": {
      "text/plain": [
       "1    69\n",
       "0    57\n",
       "Name: happinessStatus, dtype: int64"
      ]
     },
     "execution_count": 5,
     "metadata": {},
     "output_type": "execute_result"
    }
   ],
   "source": [
    "# Check happines status stats\n",
    "data['happinessStatus'].value_counts()"
   ]
  },
  {
   "cell_type": "code",
   "execution_count": 6,
   "metadata": {},
   "outputs": [
    {
     "data": {
      "text/html": [
       "<div>\n",
       "<style scoped>\n",
       "    .dataframe tbody tr th:only-of-type {\n",
       "        vertical-align: middle;\n",
       "    }\n",
       "\n",
       "    .dataframe tbody tr th {\n",
       "        vertical-align: top;\n",
       "    }\n",
       "\n",
       "    .dataframe thead th {\n",
       "        text-align: right;\n",
       "    }\n",
       "</style>\n",
       "<table border=\"1\" class=\"dataframe\">\n",
       "  <thead>\n",
       "    <tr style=\"text-align: right;\">\n",
       "      <th></th>\n",
       "      <th>onTime</th>\n",
       "      <th>expectedContents</th>\n",
       "      <th>allOrdered</th>\n",
       "      <th>goodPrice</th>\n",
       "      <th>orderSatisfication</th>\n",
       "      <th>easyOrdering</th>\n",
       "    </tr>\n",
       "    <tr>\n",
       "      <th>happinessStatus</th>\n",
       "      <th></th>\n",
       "      <th></th>\n",
       "      <th></th>\n",
       "      <th></th>\n",
       "      <th></th>\n",
       "      <th></th>\n",
       "    </tr>\n",
       "  </thead>\n",
       "  <tbody>\n",
       "    <tr>\n",
       "      <th>0</th>\n",
       "      <td>4.087719</td>\n",
       "      <td>2.561404</td>\n",
       "      <td>3.140351</td>\n",
       "      <td>3.684211</td>\n",
       "      <td>3.368421</td>\n",
       "      <td>4.105263</td>\n",
       "    </tr>\n",
       "    <tr>\n",
       "      <th>1</th>\n",
       "      <td>4.536232</td>\n",
       "      <td>2.507246</td>\n",
       "      <td>3.449275</td>\n",
       "      <td>3.797101</td>\n",
       "      <td>3.884058</td>\n",
       "      <td>4.376812</td>\n",
       "    </tr>\n",
       "  </tbody>\n",
       "</table>\n",
       "</div>"
      ],
      "text/plain": [
       "                   onTime  expectedContents  allOrdered  goodPrice  \\\n",
       "happinessStatus                                                      \n",
       "0                4.087719          2.561404    3.140351   3.684211   \n",
       "1                4.536232          2.507246    3.449275   3.797101   \n",
       "\n",
       "                 orderSatisfication  easyOrdering  \n",
       "happinessStatus                                    \n",
       "0                          3.368421      4.105263  \n",
       "1                          3.884058      4.376812  "
      ]
     },
     "execution_count": 6,
     "metadata": {},
     "output_type": "execute_result"
    }
   ],
   "source": [
    "data.groupby('happinessStatus').mean()"
   ]
  },
  {
   "cell_type": "code",
   "execution_count": 7,
   "metadata": {},
   "outputs": [],
   "source": [
    "def analyzeAttribute(data, colName) :\n",
    "    # Display Average\n",
    "    print(\"Average \" + colName + \" value: \", data[colName].mean())\n",
    "    \n",
    "    # Plot histogram\n",
    "    bins = np.arange(1,7) - 0.5\n",
    "    plt.hist(data[colName], bins)\n",
    "    plt.title(colName)\n",
    "    plt.show()\n",
    "    "
   ]
  },
  {
   "cell_type": "code",
   "execution_count": 8,
   "metadata": {},
   "outputs": [
    {
     "name": "stdout",
     "output_type": "stream",
     "text": [
      "Average onTime value:  4.333333333333333\n"
     ]
    },
    {
     "data": {
      "image/png": "[encoded data removed]",
      "text/plain": [
       "<Figure size 432x288 with 1 Axes>"
      ]
     },
     "metadata": {
      "needs_background": "light"
     },
     "output_type": "display_data"
    },
    {
     "name": "stdout",
     "output_type": "stream",
     "text": [
      "Average expectedContents value:  2.5317460317460316\n"
     ]
    },
    {
     "data": {
      "image/png": "[encoded data removed]",
      "text/plain": [
       "<Figure size 432x288 with 1 Axes>"
      ]
     },
     "metadata": {
      "needs_background": "light"
     },
     "output_type": "display_data"
    },
    {
     "name": "stdout",
     "output_type": "stream",
     "text": [
      "Average allOrdered value:  3.3095238095238093\n"
     ]
    },
    {
     "data": {
      "image/png": "[encoded data removed]",
      "text/plain": [
       "<Figure size 432x288 with 1 Axes>"
      ]
     },
     "metadata": {
      "needs_background": "light"
     },
     "output_type": "display_data"
    },
    {
     "name": "stdout",
     "output_type": "stream",
     "text": [
      "Average goodPrice value:  3.746031746031746\n"
     ]
    },
    {
     "data": {
      "image/png": "[encoded data removed]",
      "text/plain": [
       "<Figure size 432x288 with 1 Axes>"
      ]
     },
     "metadata": {
      "needs_background": "light"
     },
     "output_type": "display_data"
    },
    {
     "name": "stdout",
     "output_type": "stream",
     "text": [
      "Average orderSatisfication value:  3.6507936507936507\n"
     ]
    },
    {
     "data": {
      "image/png": "[encoded data removed]",
      "text/plain": [
       "<Figure size 432x288 with 1 Axes>"
      ]
     },
     "metadata": {
      "needs_background": "light"
     },
     "output_type": "display_data"
    },
    {
     "name": "stdout",
     "output_type": "stream",
     "text": [
      "Average easyOrdering value:  4.253968253968254\n"
     ]
    },
    {
     "data": {
      "image/png": "[encoded data removed]",
      "text/plain": [
       "<Figure size 432x288 with 1 Axes>"
      ]
     },
     "metadata": {
      "needs_background": "light"
     },
     "output_type": "display_data"
    }
   ],
   "source": [
    "for i in range(1,7) :\n",
    "    analyzeAttribute(data, data.columns[i])"
   ]
  },
  {
   "cell_type": "markdown",
   "metadata": {},
   "source": [
    "# Preprocess Data\n",
    "Divide into 80% training, 20% testing\n"
   ]
  },
  {
   "cell_type": "code",
   "execution_count": 9,
   "metadata": {},
   "outputs": [
    {
     "name": "stdout",
     "output_type": "stream",
     "text": [
      "(100, 6)\n",
      "(100,)\n",
      "(26, 6)\n",
      "(26,)\n"
     ]
    }
   ],
   "source": [
    "# Divide Data into X and Y\n",
    "X = data.drop(columns='happinessStatus')\n",
    "Y = data['happinessStatus']\n",
    "\n",
    "# Split data into training and testing\n",
    "xTrain, xTest, yTrain, yTest = train_test_split(X, Y, test_size = 0.2, random_state = 0)\n",
    "\n",
    "print(xTrain.shape)\n",
    "print(yTrain.shape)\n",
    "print(xTest.shape)\n",
    "print(yTest.shape)"
   ]
  },
  {
   "cell_type": "markdown",
   "metadata": {},
   "source": [
    "# Train Models\n",
    "Create various models here and train them using the training data.  Test them on the separate test data and evaluate them with visual aids."
   ]
  },
  {
   "cell_type": "markdown",
   "metadata": {},
   "source": [
    "# 1. Logistic regression\n",
    "sklearn"
   ]
  },
  {
   "cell_type": "code",
   "execution_count": 10,
   "metadata": {},
   "outputs": [],
   "source": [
    "from sklearn.preprocessing import PolynomialFeatures\n",
    "from sklearn.linear_model import LogisticRegression\n",
    "from sklearn.pipeline import Pipeline\n",
    "\n",
    "logReg = LogisticRegression(max_iter=100000)\n",
    "logReg = logReg.fit(xTrain, yTrain)\n",
    "yPredict = logReg.predict(xTest)"
   ]
  },
  {
   "cell_type": "code",
   "execution_count": 11,
   "metadata": {},
   "outputs": [],
   "source": [
    "def resultsReport(actual, predictions) :\n",
    "    \n",
    "    # Visualize classification report with precision, recall and F1 score\n",
    "    print(classification_report(actual, predictions))\n",
    "\n",
    "    # Create Confusion matrix vector\n",
    "    confMatrix = confusion_matrix(actual, predictions)\n",
    "    dfConfMatrix = pd.DataFrame(confMatrix, index = [i for i in \"01\"], \n",
    "                                columns = [i for i in \"01\"])\n",
    "\n",
    "    # Plot Confusion matrix\n",
    "    sn.heatmap(dfConfMatrix, annot = True)\n",
    "    plt.ylabel('Actual Label')\n",
    "    plt.xlabel('Predicted Label')\n",
    "    plt.show()"
   ]
  },
  {
   "cell_type": "code",
   "execution_count": 12,
   "metadata": {},
   "outputs": [
    {
     "name": "stdout",
     "output_type": "stream",
     "text": [
      "              precision    recall  f1-score   support\n",
      "\n",
      "           0       0.71      0.38      0.50        13\n",
      "           1       0.58      0.85      0.69        13\n",
      "\n",
      "    accuracy                           0.62        26\n",
      "   macro avg       0.65      0.62      0.59        26\n",
      "weighted avg       0.65      0.62      0.59        26\n",
      "\n"
     ]
    },
    {
     "data": {
      "image/png": "[encoded data removed]",
      "text/plain": [
       "<Figure size 432x288 with 2 Axes>"
      ]
     },
     "metadata": {
      "needs_background": "light"
     },
     "output_type": "display_data"
    }
   ],
   "source": [
    "resultsReport(yTest, yPredict)"
   ]
  },
  {
   "cell_type": "markdown",
   "metadata": {},
   "source": [
    "# 2. Support Vector Machine (SVM)\n",
    "Outputs a hyperplane that best separates the data points, thereby classifying inputs as one class or another"
   ]
  },
  {
   "cell_type": "code",
   "execution_count": 108,
   "metadata": {},
   "outputs": [],
   "source": [
    "from sklearn import svm\n",
    "from sklearn.preprocessing import StandardScaler\n",
    "\n",
    "\n",
    "SVMachine = Pipeline([('scale', StandardScaler()),# Scale inputs to 0 mean and 1 variance\n",
    "                  ('SVM', svm.SVC())])\n",
    "SVMachine = SVMachine.fit(xTrain, yTrain)\n",
    "\n",
    "yPredict = SVMachine.predict(xTest)"
   ]
  },
  {
   "cell_type": "code",
   "execution_count": 109,
   "metadata": {},
   "outputs": [
    {
     "name": "stdout",
     "output_type": "stream",
     "text": [
      "              precision    recall  f1-score   support\n",
      "\n",
      "           0       0.50      0.38      0.43        13\n",
      "           1       0.50      0.62      0.55        13\n",
      "\n",
      "    accuracy                           0.50        26\n",
      "   macro avg       0.50      0.50      0.49        26\n",
      "weighted avg       0.50      0.50      0.49        26\n",
      "\n"
     ]
    },
    {
     "data": {
      "image/png": "[encoded data removed]",
      "text/plain": [
       "<Figure size 432x288 with 2 Axes>"
      ]
     },
     "metadata": {
      "needs_background": "light"
     },
     "output_type": "display_data"
    }
   ],
   "source": [
    "resultsReport(yTest, yPredict)"
   ]
  },
  {
   "cell_type": "markdown",
   "metadata": {},
   "source": [
    "# 3. Gaussian Naive Bays\n",
    "Model applies Bayes' theorem as a probabilistic classifier"
   ]
  },
  {
   "cell_type": "code",
   "execution_count": 15,
   "metadata": {},
   "outputs": [],
   "source": [
    "from sklearn.naive_bayes import GaussianNB\n",
    "\n",
    "GNB = GaussianNB()\n",
    "GNB = GNB.fit(xTrain, yTrain)\n",
    "\n",
    "yPredict = GNB.predict(xTest)"
   ]
  },
  {
   "cell_type": "code",
   "execution_count": 16,
   "metadata": {},
   "outputs": [
    {
     "name": "stdout",
     "output_type": "stream",
     "text": [
      "              precision    recall  f1-score   support\n",
      "\n",
      "           0       0.67      0.46      0.55        13\n",
      "           1       0.59      0.77      0.67        13\n",
      "\n",
      "    accuracy                           0.62        26\n",
      "   macro avg       0.63      0.62      0.61        26\n",
      "weighted avg       0.63      0.62      0.61        26\n",
      "\n"
     ]
    },
    {
     "data": {
      "image/png": "[encoded data removed]",
      "text/plain": [
       "<Figure size 432x288 with 2 Axes>"
      ]
     },
     "metadata": {
      "needs_background": "light"
     },
     "output_type": "display_data"
    }
   ],
   "source": [
    "resultsReport(yTest, yPredict)"
   ]
  },
  {
   "cell_type": "markdown",
   "metadata": {},
   "source": [
    "# 4. Stochastic Gradient Descent\n"
   ]
  },
  {
   "cell_type": "code",
   "execution_count": 17,
   "metadata": {},
   "outputs": [],
   "source": [
    "from sklearn.linear_model import SGDClassifier\n",
    "\n",
    "SGD = SGDClassifier()\n",
    "SGD = SGD.fit(xTrain, yTrain)\n",
    "\n",
    "yPredict = SGD.predict(xTest)"
   ]
  },
  {
   "cell_type": "code",
   "execution_count": 18,
   "metadata": {},
   "outputs": [
    {
     "name": "stdout",
     "output_type": "stream",
     "text": [
      "              precision    recall  f1-score   support\n",
      "\n",
      "           0       0.00      0.00      0.00        13\n",
      "           1       0.50      1.00      0.67        13\n",
      "\n",
      "    accuracy                           0.50        26\n",
      "   macro avg       0.25      0.50      0.33        26\n",
      "weighted avg       0.25      0.50      0.33        26\n",
      "\n"
     ]
    },
    {
     "name": "stderr",
     "output_type": "stream",
     "text": [
      "/Users/andrewmullen/opt/anaconda3/lib/python3.7/site-packages/sklearn/metrics/_classification.py:1272: UndefinedMetricWarning: Precision and F-score are ill-defined and being set to 0.0 in labels with no predicted samples. Use `zero_division` parameter to control this behavior.\n",
      "  _warn_prf(average, modifier, msg_start, len(result))\n"
     ]
    },
    {
     "data": {
      "image/png": "[encoded data removed]",
      "text/plain": [
       "<Figure size 432x288 with 2 Axes>"
      ]
     },
     "metadata": {
      "needs_background": "light"
     },
     "output_type": "display_data"
    }
   ],
   "source": [
    "resultsReport(yTest, yPredict)"
   ]
  },
  {
   "cell_type": "markdown",
   "metadata": {},
   "source": [
    "# 4. K Nearest Neighbours"
   ]
  },
  {
   "cell_type": "code",
   "execution_count": 19,
   "metadata": {},
   "outputs": [
    {
     "name": "stdout",
     "output_type": "stream",
     "text": [
      "10 0.7407407407407408\n"
     ]
    }
   ],
   "source": [
    "from sklearn.neighbors import KNeighborsClassifier\n",
    "\n",
    "kRange = range(1,75)\n",
    "results = []\n",
    "\n",
    "# Test out a range of different k values\n",
    "for k in kRange :\n",
    "    KNN = KNeighborsClassifier(n_neighbors = k)\n",
    "    KNN = KNN.fit(xTrain, yTrain)\n",
    "    \n",
    "    yPredict = KNN.predict(xTest)\n",
    "    \n",
    "    results.append(f1_score(yTest, yPredict))\n",
    "    \n",
    "print(results.index(max(results))+1, max(results)) # +1 because index starts at 0 and our results start with a kvalue of 1\n"
   ]
  },
  {
   "cell_type": "code",
   "execution_count": 20,
   "metadata": {},
   "outputs": [
    {
     "data": {
      "text/plain": [
       "Text(0, 0.5, 'F1 Score')"
      ]
     },
     "execution_count": 20,
     "metadata": {},
     "output_type": "execute_result"
    },
    {
     "data": {
      "image/png": "[encoded data removed]",
      "text/plain": [
       "<Figure size 432x288 with 1 Axes>"
      ]
     },
     "metadata": {
      "needs_background": "light"
     },
     "output_type": "display_data"
    }
   ],
   "source": [
    "plt.plot(range(1,len(results)+1), results)\n",
    "plt.xlabel(\"K Value\")\n",
    "plt.ylabel(\"F1 Score\")"
   ]
  },
  {
   "cell_type": "code",
   "execution_count": 21,
   "metadata": {},
   "outputs": [],
   "source": [
    "# Recreate k nearest neighbours model with max f1 score aka where k = 10\n",
    "KNN = KNeighborsClassifier(n_neighbors=10)\n",
    "KNN = KNN.fit(xTrain, yTrain)\n",
    "\n",
    "yPredict = KNN.predict(xTest)"
   ]
  },
  {
   "cell_type": "code",
   "execution_count": 22,
   "metadata": {},
   "outputs": [
    {
     "name": "stdout",
     "output_type": "stream",
     "text": [
      "              precision    recall  f1-score   support\n",
      "\n",
      "           0       0.75      0.69      0.72        13\n",
      "           1       0.71      0.77      0.74        13\n",
      "\n",
      "    accuracy                           0.73        26\n",
      "   macro avg       0.73      0.73      0.73        26\n",
      "weighted avg       0.73      0.73      0.73        26\n",
      "\n"
     ]
    },
    {
     "data": {
      "image/png": "[encoded data removed]",
      "text/plain": [
       "<Figure size 432x288 with 2 Axes>"
      ]
     },
     "metadata": {
      "needs_background": "light"
     },
     "output_type": "display_data"
    }
   ],
   "source": [
    "resultsReport(yTest, yPredict)"
   ]
  },
  {
   "cell_type": "markdown",
   "metadata": {},
   "source": [
    "# 5. Decision Tree"
   ]
  },
  {
   "cell_type": "code",
   "execution_count": 24,
   "metadata": {},
   "outputs": [],
   "source": [
    "from sklearn.tree import DecisionTreeClassifier\n",
    "\n",
    "tree = DecisionTreeClassifier()\n",
    "tree.fit(xTrain, yTrain)\n",
    "\n",
    "yPredict = tree.predict(xTest)"
   ]
  },
  {
   "cell_type": "code",
   "execution_count": 25,
   "metadata": {},
   "outputs": [
    {
     "name": "stdout",
     "output_type": "stream",
     "text": [
      "              precision    recall  f1-score   support\n",
      "\n",
      "           0       0.50      0.54      0.52        13\n",
      "           1       0.50      0.46      0.48        13\n",
      "\n",
      "    accuracy                           0.50        26\n",
      "   macro avg       0.50      0.50      0.50        26\n",
      "weighted avg       0.50      0.50      0.50        26\n",
      "\n"
     ]
    },
    {
     "data": {
      "image/png": "[encoded data removed]",
      "text/plain": [
       "<Figure size 432x288 with 2 Axes>"
      ]
     },
     "metadata": {
      "needs_background": "light"
     },
     "output_type": "display_data"
    }
   ],
   "source": [
    "resultsReport(yTest, yPredict)"
   ]
  },
  {
   "cell_type": "markdown",
   "metadata": {},
   "source": [
    "# 6. Random Forest"
   ]
  },
  {
   "cell_type": "code",
   "execution_count": 26,
   "metadata": {},
   "outputs": [],
   "source": [
    "from sklearn.ensemble import RandomForestClassifier\n",
    "\n",
    "rf = RandomForestClassifier()\n",
    "rf = rf.fit(xTrain, yTrain)\n",
    "\n",
    "yPredict = rf.predict(xTest)"
   ]
  },
  {
   "cell_type": "code",
   "execution_count": 27,
   "metadata": {},
   "outputs": [
    {
     "name": "stdout",
     "output_type": "stream",
     "text": [
      "              precision    recall  f1-score   support\n",
      "\n",
      "           0       0.55      0.46      0.50        13\n",
      "           1       0.53      0.62      0.57        13\n",
      "\n",
      "    accuracy                           0.54        26\n",
      "   macro avg       0.54      0.54      0.54        26\n",
      "weighted avg       0.54      0.54      0.54        26\n",
      "\n"
     ]
    },
    {
     "data": {
      "image/png": "[encoded data removed]",
      "text/plain": [
       "<Figure size 432x288 with 2 Axes>"
      ]
     },
     "metadata": {
      "needs_background": "light"
     },
     "output_type": "display_data"
    }
   ],
   "source": [
    "resultsReport(yTest, yPredict)"
   ]
  },
  {
   "cell_type": "markdown",
   "metadata": {},
   "source": [
    "# Hyperparameter Tuning\n",
    "Change the various hyperparameters on models of interest -> KNN, SVM"
   ]
  },
  {
   "cell_type": "code",
   "execution_count": 43,
   "metadata": {},
   "outputs": [
    {
     "name": "stdout",
     "output_type": "stream",
     "text": [
      "0.7741935483870968\n",
      "14_uniform_auto_25_1\n"
     ]
    }
   ],
   "source": [
    "# Hyperparameters list\n",
    "n_neighbors = range(1,20)\n",
    "weights = ['uniform', 'distance']\n",
    "algo = ['auto', 'ball_tree', 'kd_tree', 'brute']\n",
    "leafSize = range(1,30)\n",
    "power = [1,2]\n",
    "\n",
    "bestScore = 0\n",
    "hyperParameterString = ''\n",
    "\n",
    "bestModel = KNeighborsClassifier()\n",
    "for neigh in n_neighbors :\n",
    "    for weight in weights :\n",
    "        for alg in algo :\n",
    "            for leaf in leafSize :\n",
    "                for p in power:\n",
    "                    KNN = KNeighborsClassifier(n_neighbors = neigh,\n",
    "                                               weights = weight,\n",
    "                                               algorithm = alg,\n",
    "                                               leaf_size = leaf,\n",
    "                                               p = p)\n",
    "                    KNN = KNN.fit(xTrain, yTrain)\n",
    "\n",
    "                    yPredict = KNN.predict(xTest)\n",
    "\n",
    "                    if f1_score(yTest, yPredict) > bestScore :\n",
    "                        bestScore = f1_score(yTest, yPredict)\n",
    "                        hyperParameterString = str(neigh) + '_' + weight + '_' + alg + '_' + str(leaf) + '_' + str(p)\n",
    "                        \n",
    "\n",
    "\n",
    "                        \n",
    "print(bestScore)\n",
    "print(hyperParameterString)\n",
    "    "
   ]
  },
  {
   "cell_type": "markdown",
   "metadata": {},
   "source": [
    "With this new hyperparamter tuned model the accuracy was improved from 73% to 77% (An increase of 4%).  The model that achieved this used a k value of 15, a uniform weight, auto algorithm, a leaf size of 25 and a power parameter of 1.  Both the weights and algorithm parameters were the same as what is used in the default settings of the model."
   ]
  },
  {
   "cell_type": "code",
   "execution_count": 44,
   "metadata": {},
   "outputs": [],
   "source": [
    "# Recreate k nearest neighbours model with max f1 score aka where k = 10\n",
    "KNN = KNeighborsClassifier(n_neighbors=14, weights='uniform', algorithm='auto', leaf_size=25, p=1)\n",
    "KNN = KNN.fit(xTrain, yTrain)\n",
    "\n",
    "yPredict = KNN.predict(xTest)"
   ]
  },
  {
   "cell_type": "code",
   "execution_count": 45,
   "metadata": {},
   "outputs": [
    {
     "name": "stdout",
     "output_type": "stream",
     "text": [
      "0.7741935483870968\n",
      "              precision    recall  f1-score   support\n",
      "\n",
      "           0       0.88      0.54      0.67        13\n",
      "           1       0.67      0.92      0.77        13\n",
      "\n",
      "    accuracy                           0.73        26\n",
      "   macro avg       0.77      0.73      0.72        26\n",
      "weighted avg       0.77      0.73      0.72        26\n",
      "\n"
     ]
    },
    {
     "data": {
      "image/png": "[encoded data removed]",
      "text/plain": [
       "<Figure size 432x288 with 2 Axes>"
      ]
     },
     "metadata": {
      "needs_background": "light"
     },
     "output_type": "display_data"
    }
   ],
   "source": [
    "print(f1_score(yTest, yPredict))\n",
    "resultsReport(yTest, yPredict)"
   ]
  },
  {
   "cell_type": "code",
   "execution_count": 69,
   "metadata": {},
   "outputs": [
    {
     "name": "stdout",
     "output_type": "stream",
     "text": [
      "0.8000000000000002\n",
      "linear_1_scale\n"
     ]
    }
   ],
   "source": [
    "# SVM\n",
    "# Hyper parameter options\n",
    "kernelType = ['linear', 'poly', 'rbf', 'sigmoid']#, 'precomputed']\n",
    "degree = [1, 2, 3, 4] # Only applicable for kernel = poly\n",
    "gamma = ['scale', 'auto'] # Only applicable for kernel = rbf poly or sigmoid\n",
    "\n",
    "# Performance trackign variables\n",
    "bestScore = 0\n",
    "hyperParameterString = ''\n",
    "\n",
    "for k in kernelType :\n",
    "    for d in degree :\n",
    "        #for g in gamma :\n",
    "            \n",
    "            SVMachine = Pipeline([('scale', StandardScaler()),# Scale inputs to 0 mean and 1 variance\n",
    "                              ('SVM', svm.SVC(kernel=k, degree=d, gamma=g))])\n",
    "            SVMachine = SVMachine.fit(xTrain, yTrain)\n",
    "\n",
    "            yPredict = SVMachine.predict(xTest)\n",
    "            \n",
    "            if f1_score(yTest, yPredict) > bestScore :\n",
    "                bestScore = f1_score(yTest, yPredict)\n",
    "                hyperParameterString = k + '_' + str(d) + '_' + g\n",
    "                \n",
    "print(bestScore)\n",
    "print(hyperParameterString)"
   ]
  },
  {
   "cell_type": "code",
   "execution_count": 70,
   "metadata": {},
   "outputs": [],
   "source": [
    "# Recreate SVM model with highest score (80%) -> kernel = linear, degree = 1, gamma = scale\n",
    "SVMachine = Pipeline([('scale', StandardScaler()),# Scale inputs to 0 mean and 1 variance\n",
    "                    ('SVM', svm.SVC(kernel='linear', degree=1, gamma='scale'))])\n",
    "SVMachine = SVMachine.fit(xTrain, yTrain)\n",
    "\n",
    "yPredict = SVMachine.predict(xTest)"
   ]
  },
  {
   "cell_type": "code",
   "execution_count": 71,
   "metadata": {},
   "outputs": [
    {
     "name": "stdout",
     "output_type": "stream",
     "text": [
      "0.8000000000000002\n",
      "              precision    recall  f1-score   support\n",
      "\n",
      "           0       0.89      0.62      0.73        13\n",
      "           1       0.71      0.92      0.80        13\n",
      "\n",
      "    accuracy                           0.77        26\n",
      "   macro avg       0.80      0.77      0.76        26\n",
      "weighted avg       0.80      0.77      0.76        26\n",
      "\n"
     ]
    },
    {
     "data": {
      "image/png": "[encoded data removed]",
      "text/plain": [
       "<Figure size 432x288 with 2 Axes>"
      ]
     },
     "metadata": {
      "needs_background": "light"
     },
     "output_type": "display_data"
    }
   ],
   "source": [
    "print(f1_score(yTest, yPredict))\n",
    "resultsReport(yTest, yPredict)"
   ]
  },
  {
   "cell_type": "code",
   "execution_count": 78,
   "metadata": {},
   "outputs": [
    {
     "name": "stdout",
     "output_type": "stream",
     "text": [
      "0.7428571428571429\n",
      "hinge_l1_0.001\n"
     ]
    }
   ],
   "source": [
    "# Stocahstic Gradient Descent Hyperparameter tuning\n",
    "# Hyperparameter options\n",
    "loss = ['hinge', 'log', 'modified_huber', 'squared_hinge', 'perceptron']\n",
    "penalty = ['l2', 'l1', 'elasticnet']\n",
    "alpha = [0.000001, 0.00001, 0.0001, 0.001, 0.01]\n",
    "\n",
    "# Performance trackign variables\n",
    "bestScore = 0\n",
    "hyperParameterString = ''\n",
    "\n",
    "for l in loss :\n",
    "    for p in penalty :\n",
    "        for a in alpha :\n",
    "            SGD = SGDClassifier(loss=l, penalty=p, alpha=a)\n",
    "            SGD = SGD.fit(xTrain, yTrain)\n",
    "\n",
    "            yPredict = SGD.predict(xTest)\n",
    "            \n",
    "            if f1_score(yTest, yPredict) > bestScore :\n",
    "                bestScore = f1_score(yTest, yPredict)\n",
    "                hyperParameterString = l + '_' + p + '_' + str(a)\n",
    "                \n",
    "# Print results\n",
    "print(bestScore)\n",
    "print(hyperParameterString)"
   ]
  },
  {
   "cell_type": "code",
   "execution_count": 86,
   "metadata": {},
   "outputs": [],
   "source": [
    "# Recreate model with highest f1 score\n",
    "SGD = SGDClassifier(loss='hinge', penalty='l1', alpha=0.001)\n",
    "SGD = SGD.fit(xTrain, yTrain)\n",
    "\n",
    "yPredict = SGD.predict(xTest)"
   ]
  },
  {
   "cell_type": "code",
   "execution_count": 87,
   "metadata": {},
   "outputs": [
    {
     "name": "stdout",
     "output_type": "stream",
     "text": [
      "0.7272727272727274\n",
      "              precision    recall  f1-score   support\n",
      "\n",
      "           0       0.83      0.38      0.53        13\n",
      "           1       0.60      0.92      0.73        13\n",
      "\n",
      "    accuracy                           0.65        26\n",
      "   macro avg       0.72      0.65      0.63        26\n",
      "weighted avg       0.72      0.65      0.63        26\n",
      "\n"
     ]
    },
    {
     "data": {
      "image/png": "[encoded data removed]",
      "text/plain": [
       "<Figure size 432x288 with 2 Axes>"
      ]
     },
     "metadata": {
      "needs_background": "light"
     },
     "output_type": "display_data"
    }
   ],
   "source": [
    "print(f1_score(yTest, yPredict))\n",
    "resultsReport(yTest, yPredict)"
   ]
  },
  {
   "cell_type": "code",
   "execution_count": 104,
   "metadata": {},
   "outputs": [
    {
     "name": "stdout",
     "output_type": "stream",
     "text": [
      "0.7096774193548387\n",
      "entropy_random_5\n"
     ]
    }
   ],
   "source": [
    "# Decision Tree\n",
    "# Hyperparameter options\n",
    "criterion = ['gini', 'entropy']\n",
    "splitter = ['best', 'random']\n",
    "max_depth = range(3,10)\n",
    "\n",
    "# Performance trackign variables\n",
    "bestScore = 0\n",
    "hyperParameterString = ''\n",
    "\n",
    "for c in criterion :\n",
    "    for s in splitter :\n",
    "        for m in max_depth :\n",
    "            tree = DecisionTreeClassifier(criterion=c, splitter=s, max_depth=m)\n",
    "            tree = tree.fit(xTrain, yTrain)\n",
    "            \n",
    "            yPredict = tree.predict(xTest)\n",
    "            \n",
    "            if f1_score(yTest, yPredict) > bestScore :\n",
    "                bestScore = f1_score(yTest, yPredict)\n",
    "                hyperParameterString = c + '_' + s + '_' + str(m)\n",
    "                \n",
    "print(bestScore)\n",
    "print(hyperParameterString)"
   ]
  },
  {
   "cell_type": "code",
   "execution_count": 102,
   "metadata": {},
   "outputs": [],
   "source": [
    "# Recreate decision tree with best f1 score (70%)\n",
    "tree = DecisionTreeClassifier(criterion='entropy', splitter='random', max_depth=4)\n",
    "tree = tree.fit(xTrain, yTrain)\n",
    "\n",
    "yPredict = tree.predict(xTest)"
   ]
  },
  {
   "cell_type": "code",
   "execution_count": 103,
   "metadata": {},
   "outputs": [
    {
     "name": "stdout",
     "output_type": "stream",
     "text": [
      "0.6470588235294118\n",
      "              precision    recall  f1-score   support\n",
      "\n",
      "           0       0.60      0.23      0.33        13\n",
      "           1       0.52      0.85      0.65        13\n",
      "\n",
      "    accuracy                           0.54        26\n",
      "   macro avg       0.56      0.54      0.49        26\n",
      "weighted avg       0.56      0.54      0.49        26\n",
      "\n"
     ]
    },
    {
     "data": {
      "image/png": "[encoded data removed]",
      "text/plain": [
       "<Figure size 432x288 with 2 Axes>"
      ]
     },
     "metadata": {
      "needs_background": "light"
     },
     "output_type": "display_data"
    }
   ],
   "source": [
    "print(f1_score(yTest, yPredict))\n",
    "resultsReport(yTest, yPredict)"
   ]
  },
  {
   "cell_type": "markdown",
   "metadata": {},
   "source": [
    "This section showcases the need for tuning hyperparameters.  K nearest neighbours and SVM showcased increases in accuracy with a 74 to 77% and 55 to 80% respectively.  While changing hyperparameters for the decision tree and random forest brought increased results, due to the nature of the models these results couldn't be reproduced with any reliability as the accuracy would be anywhere from 50% to 85% and would have a heavy bias on predicting customers to be happy."
   ]
  },
  {
   "cell_type": "markdown",
   "metadata": {},
   "source": [
    "# Feature Importance/Selection\n",
    "Here we will go through the models to find which features contributed the most to their F1 scores"
   ]
  },
  {
   "cell_type": "code",
   "execution_count": 52,
   "metadata": {},
   "outputs": [
    {
     "data": {
      "image/png": "[encoded data removed]",
      "text/plain": [
       "<Figure size 432x288 with 1 Axes>"
      ]
     },
     "metadata": {
      "needs_background": "light"
     },
     "output_type": "display_data"
    }
   ],
   "source": [
    "# 1. Logistic Regression feature importance\n",
    "columns = ['Timely Delivery', 'Expected Contents', 'Ordered All', 'Good Price',\n",
    "           'Order Satisfaction', 'Easy App Ordering']\n",
    "\n",
    "plt.barh(columns, logReg.coef_[0])\n",
    "plt.title('Logistic Regression Feature Importance')\n",
    "plt.xlabel('Importance')\n",
    "plt.ylabel('Features')\n",
    "plt.show()"
   ]
  },
  {
   "cell_type": "code",
   "execution_count": 72,
   "metadata": {},
   "outputs": [
    {
     "name": "stdout",
     "output_type": "stream",
     "text": [
      "[ 8.20745907e-01  6.03511894e-05 -5.57442869e-05 -1.77831296e-05\n",
      "  1.28196526e-04  5.76632048e-05]\n"
     ]
    },
    {
     "data": {
      "image/png": "[encoded data removed]",
      "text/plain": [
       "<Figure size 432x288 with 1 Axes>"
      ]
     },
     "metadata": {
      "needs_background": "light"
     },
     "output_type": "display_data"
    }
   ],
   "source": [
    "print(SVMachine['SVM'].coef_[0])\n",
    "\n",
    "plt.barh(columns, SVMachine['SVM'].coef_[0])\n",
    "plt.title('Support Vector Machine Feature Importance')\n",
    "plt.xlabel('Importance')\n",
    "plt.ylabel('Features')\n",
    "plt.show()"
   ]
  },
  {
   "cell_type": "code",
   "execution_count": 110,
   "metadata": {},
   "outputs": [
    {
     "data": {
      "image/png": "[encoded data removed]",
      "text/plain": [
       "<Figure size 432x288 with 1 Axes>"
      ]
     },
     "metadata": {
      "needs_background": "light"
     },
     "output_type": "display_data"
    }
   ],
   "source": [
    "from sklearn.inspection import permutation_importance\n",
    "perm_importance = permutation_importance(KNN, xTest, yTest)            \n",
    "sorted_idx = perm_importance.importances_mean.argsort()\n",
    "plt.barh(X.columns[sorted_idx], perm_importance.importances_mean[sorted_idx])\n",
    "plt.title('Feature Importance')\n",
    "plt.ylabel('Features')\n",
    "plt.xlabel('Importance')\n",
    "plt.show()"
   ]
  },
  {
   "cell_type": "code",
   "execution_count": 111,
   "metadata": {},
   "outputs": [
    {
     "data": {
      "image/png": "[encoded data removed]",
      "text/plain": [
       "<Figure size 432x288 with 1 Axes>"
      ]
     },
     "metadata": {
      "needs_background": "light"
     },
     "output_type": "display_data"
    }
   ],
   "source": [
    "perm_importance = permutation_importance(SVMachine, xTest, yTest)            \n",
    "sorted_idx = perm_importance.importances_mean.argsort()\n",
    "plt.barh(X.columns[sorted_idx], perm_importance.importances_mean[sorted_idx])\n",
    "plt.title('Feature Importance')\n",
    "plt.ylabel('Features')\n",
    "plt.xlabel('Importance')\n",
    "plt.show()"
   ]
  },
  {
   "cell_type": "markdown",
   "metadata": {},
   "source": [
    "Both of these models rank the features in the same order of importance. Next the same models will be trained with the optimal hyperparameters dropping the least important feature of the data set everytime"
   ]
  },
  {
   "cell_type": "code",
   "execution_count": 113,
   "metadata": {},
   "outputs": [
    {
     "data": {
      "text/plain": [
       "Index(['orderSatisfication', 'goodPrice', 'easyOrdering', 'expectedContents',\n",
       "       'allOrdered', 'onTime'],\n",
       "      dtype='object')"
      ]
     },
     "execution_count": 113,
     "metadata": {},
     "output_type": "execute_result"
    }
   ],
   "source": [
    "X.columns[sorted_idx]"
   ]
  },
  {
   "cell_type": "code",
   "execution_count": null,
   "metadata": {},
   "outputs": [],
   "source": [
    "'onTime', 'expectedContents', \n",
    "                'allOrdered', 'goodPrice', 'orderSatisfication', 'easyOrdering'"
   ]
  },
  {
   "cell_type": "code",
   "execution_count": null,
   "metadata": {},
   "outputs": [],
   "source": [
    "SVMachine = Pipeline([('scale', StandardScaler()),# Scale inputs to 0 mean and 1 variance\n",
    "                    ('SVM', svm.SVC(kernel='linear', degree=1, gamma='scale'))])\n",
    "SVMachine = SVMachine.fit(xTrain, yTrain)\n",
    "\n",
    "yPredict = SVMachine.predict(xTest)\n",
    "\n",
    "KNN = KNeighborsClassifier(n_neighbors=14, weights='uniform', algorithm='auto', leaf_size=25, p=1)\n",
    "KNN = KNN.fit(xTrain, yTrain)\n",
    "\n",
    "yPredict = KNN.predict(xTest)"
   ]
  },
  {
   "cell_type": "code",
   "execution_count": 140,
   "metadata": {},
   "outputs": [
    {
     "name": "stdout",
     "output_type": "stream",
     "text": [
      "[0.6206896551724139, 0.6666666666666667, 0.3333333333333333, 0.5333333333333333, 0.5161290322580646, 0.45161290322580644]\n",
      "[0.5333333333333333, 0.6451612903225806, 0.48, 0.5806451612903226, 0.5625000000000001, 0.43750000000000006]\n"
     ]
    }
   ],
   "source": [
    "# Create a copy of the data set\n",
    "Xcopy = X.copy()\n",
    "\n",
    "# Initialize variable with the correct order for dropping columns\n",
    "columnDropOrder = X.columns[sorted_idx]\n",
    "\n",
    "# Initialize variables to track models F1 scores\n",
    "SVMScore = []\n",
    "KNNScore = []\n",
    "\n",
    "for i in range(len(columnDropOrder)) :\n",
    "    # Create train, test data split with new feature dropped category\n",
    "    xTrainNew, xTestNew, yTrainNew, yTestNew = train_test_split(Xcopy, Y, test_size = 0.2)\n",
    "\n",
    "    # Train models on the new reduced data\n",
    "    # SVM\n",
    "    SVMachine = Pipeline([('scale', StandardScaler()),# Scale inputs to 0 mean and 1 variance\n",
    "                    ('SVM', svm.SVC(kernel='linear', degree=1, gamma='scale'))])\n",
    "    SVMachine = SVMachine.fit(xTrain, yTrain)\n",
    "\n",
    "    SVMPredict = SVMachine.predict(xTest)\n",
    "\n",
    "    #KNN\n",
    "    KNN = KNeighborsClassifier(n_neighbors=14, weights='uniform', algorithm='auto', leaf_size=25, p=1)\n",
    "    KNN = KNN.fit(xTrain, yTrain)\n",
    "\n",
    "    KNNPredict = KNN.predict(xTest)\n",
    "    \n",
    "    # Record Results\n",
    "    SVMScore.append(f1_score(yTestNew, SVMPredict))\n",
    "    KNNScore.append(f1_score(yTestNew, KNNPredict))\n",
    "    \n",
    "    # Drop next lowest important feature\n",
    "    Xcopy = Xcopy.drop(columns=columnDropOrder[i])\n",
    "    \n",
    "\n",
    "print(SVMScore)\n",
    "print(KNNScore)"
   ]
  },
  {
   "cell_type": "code",
   "execution_count": null,
   "metadata": {},
   "outputs": [],
   "source": []
  }
 ],
 "metadata": {
  "kernelspec": {
   "display_name": "Python 3",
   "language": "python",
   "name": "python3"
  },
  "language_info": {
   "codemirror_mode": {
    "name": "ipython",
    "version": 3
   },
   "file_extension": ".py",
   "mimetype": "text/x-python",
   "name": "python",
   "nbconvert_exporter": "python",
   "pygments_lexer": "ipython3",
   "version": "3.7.6"
  }
 },
 "nbformat": 4,
 "nbformat_minor": 4
}
