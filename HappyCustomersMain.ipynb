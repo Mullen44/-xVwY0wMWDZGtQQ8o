{
 "cells": [
  {
   "cell_type": "markdown",
   "metadata": {},
   "source": [
    "# Happy Customers\n",
    "This program takes in a csv file of survey data from a client and uses it to train a machine learning model to predict customer happiness.\n",
    "The CSV file contains 7 features. The Y value will be a binary happiness value while the other features are integers from 1-5.  These attributes are as follows:\n",
    "\n",
    "X1 - The order was delivered on time\n",
    "\n",
    "X2 - The contents of the order was as expected\n",
    "\n",
    "X3 - Ordered everything they wanted to\n",
    "\n",
    "X4 - Paid a good price for the order\n",
    "\n",
    "X5 - Satisfied with the order\n",
    "\n",
    "X6 - The app made ordering easy\n",
    "\n",
    "Further analysis will be done to learn which attributes most significantly affect customer happiness"
   ]
  },
  {
   "cell_type": "code",
   "execution_count": 1,
   "metadata": {},
   "outputs": [],
   "source": [
    "## Import Modules\n",
    "import numpy as np\n",
    "import sklearn\n",
    "from sklearn.model_selection import train_test_split\n",
    "import csv\n",
    "import matplotlib.pyplot as plt\n",
    "import random\n",
    "import pandas as pd\n",
    "import seaborn as sn\n",
    "from sklearn.metrics import confusion_matrix, classification_report, f1_score\n",
    "from utils import *"
   ]
  },
  {
   "cell_type": "code",
   "execution_count": 2,
   "metadata": {},
   "outputs": [
    {
     "data": {
      "text/html": [
       "<div>\n",
       "<style scoped>\n",
       "    .dataframe tbody tr th:only-of-type {\n",
       "        vertical-align: middle;\n",
       "    }\n",
       "\n",
       "    .dataframe tbody tr th {\n",
       "        vertical-align: top;\n",
       "    }\n",
       "\n",
       "    .dataframe thead th {\n",
       "        text-align: right;\n",
       "    }\n",
       "</style>\n",
       "<table border=\"1\" class=\"dataframe\">\n",
       "  <thead>\n",
       "    <tr style=\"text-align: right;\">\n",
       "      <th></th>\n",
       "      <th>happinessStatus</th>\n",
       "      <th>onTime</th>\n",
       "      <th>expectedContents</th>\n",
       "      <th>allOrdered</th>\n",
       "      <th>goodPrice</th>\n",
       "      <th>orderSatisfication</th>\n",
       "      <th>easyOrdering</th>\n",
       "    </tr>\n",
       "  </thead>\n",
       "  <tbody>\n",
       "    <tr>\n",
       "      <th>0</th>\n",
       "      <td>0</td>\n",
       "      <td>3</td>\n",
       "      <td>3</td>\n",
       "      <td>3</td>\n",
       "      <td>4</td>\n",
       "      <td>2</td>\n",
       "      <td>4</td>\n",
       "    </tr>\n",
       "    <tr>\n",
       "      <th>1</th>\n",
       "      <td>0</td>\n",
       "      <td>3</td>\n",
       "      <td>2</td>\n",
       "      <td>3</td>\n",
       "      <td>5</td>\n",
       "      <td>4</td>\n",
       "      <td>3</td>\n",
       "    </tr>\n",
       "    <tr>\n",
       "      <th>2</th>\n",
       "      <td>1</td>\n",
       "      <td>5</td>\n",
       "      <td>3</td>\n",
       "      <td>3</td>\n",
       "      <td>3</td>\n",
       "      <td>3</td>\n",
       "      <td>5</td>\n",
       "    </tr>\n",
       "    <tr>\n",
       "      <th>3</th>\n",
       "      <td>0</td>\n",
       "      <td>5</td>\n",
       "      <td>4</td>\n",
       "      <td>3</td>\n",
       "      <td>3</td>\n",
       "      <td>3</td>\n",
       "      <td>5</td>\n",
       "    </tr>\n",
       "    <tr>\n",
       "      <th>4</th>\n",
       "      <td>0</td>\n",
       "      <td>5</td>\n",
       "      <td>4</td>\n",
       "      <td>3</td>\n",
       "      <td>3</td>\n",
       "      <td>3</td>\n",
       "      <td>5</td>\n",
       "    </tr>\n",
       "  </tbody>\n",
       "</table>\n",
       "</div>"
      ],
      "text/plain": [
       "   happinessStatus  onTime  expectedContents  allOrdered  goodPrice  \\\n",
       "0                0       3                 3           3          4   \n",
       "1                0       3                 2           3          5   \n",
       "2                1       5                 3           3          3   \n",
       "3                0       5                 4           3          3   \n",
       "4                0       5                 4           3          3   \n",
       "\n",
       "   orderSatisfication  easyOrdering  \n",
       "0                   2             4  \n",
       "1                   4             3  \n",
       "2                   3             5  \n",
       "3                   3             5  \n",
       "4                   3             5  "
      ]
     },
     "execution_count": 2,
     "metadata": {},
     "output_type": "execute_result"
    }
   ],
   "source": [
    "# Read in data\n",
    "path = 'data.csv'\n",
    "data = pd.read_csv(path)\n",
    "data.columns = ['happinessStatus', 'onTime', 'expectedContents', \n",
    "                'allOrdered', 'goodPrice', 'orderSatisfication', 'easyOrdering']\n",
    "data.head()"
   ]
  },
  {
   "cell_type": "markdown",
   "metadata": {},
   "source": [
    "# Visualize the data"
   ]
  },
  {
   "cell_type": "code",
   "execution_count": 3,
   "metadata": {},
   "outputs": [
    {
     "name": "stdout",
     "output_type": "stream",
     "text": [
      "<class 'pandas.core.frame.DataFrame'>\n",
      "RangeIndex: 126 entries, 0 to 125\n",
      "Data columns (total 7 columns):\n",
      " #   Column              Non-Null Count  Dtype\n",
      "---  ------              --------------  -----\n",
      " 0   happinessStatus     126 non-null    int64\n",
      " 1   onTime              126 non-null    int64\n",
      " 2   expectedContents    126 non-null    int64\n",
      " 3   allOrdered          126 non-null    int64\n",
      " 4   goodPrice           126 non-null    int64\n",
      " 5   orderSatisfication  126 non-null    int64\n",
      " 6   easyOrdering        126 non-null    int64\n",
      "dtypes: int64(7)\n",
      "memory usage: 7.0 KB\n"
     ]
    }
   ],
   "source": [
    "data.info()"
   ]
  },
  {
   "cell_type": "code",
   "execution_count": 4,
   "metadata": {},
   "outputs": [
    {
     "data": {
      "text/html": [
       "<div>\n",
       "<style scoped>\n",
       "    .dataframe tbody tr th:only-of-type {\n",
       "        vertical-align: middle;\n",
       "    }\n",
       "\n",
       "    .dataframe tbody tr th {\n",
       "        vertical-align: top;\n",
       "    }\n",
       "\n",
       "    .dataframe thead th {\n",
       "        text-align: right;\n",
       "    }\n",
       "</style>\n",
       "<table border=\"1\" class=\"dataframe\">\n",
       "  <thead>\n",
       "    <tr style=\"text-align: right;\">\n",
       "      <th></th>\n",
       "      <th>happinessStatus</th>\n",
       "      <th>onTime</th>\n",
       "      <th>expectedContents</th>\n",
       "      <th>allOrdered</th>\n",
       "      <th>goodPrice</th>\n",
       "      <th>orderSatisfication</th>\n",
       "      <th>easyOrdering</th>\n",
       "    </tr>\n",
       "  </thead>\n",
       "  <tbody>\n",
       "    <tr>\n",
       "      <th>count</th>\n",
       "      <td>126.000000</td>\n",
       "      <td>126.000000</td>\n",
       "      <td>126.000000</td>\n",
       "      <td>126.000000</td>\n",
       "      <td>126.000000</td>\n",
       "      <td>126.000000</td>\n",
       "      <td>126.000000</td>\n",
       "    </tr>\n",
       "    <tr>\n",
       "      <th>mean</th>\n",
       "      <td>0.547619</td>\n",
       "      <td>4.333333</td>\n",
       "      <td>2.531746</td>\n",
       "      <td>3.309524</td>\n",
       "      <td>3.746032</td>\n",
       "      <td>3.650794</td>\n",
       "      <td>4.253968</td>\n",
       "    </tr>\n",
       "    <tr>\n",
       "      <th>std</th>\n",
       "      <td>0.499714</td>\n",
       "      <td>0.800000</td>\n",
       "      <td>1.114892</td>\n",
       "      <td>1.023440</td>\n",
       "      <td>0.875776</td>\n",
       "      <td>1.147641</td>\n",
       "      <td>0.809311</td>\n",
       "    </tr>\n",
       "    <tr>\n",
       "      <th>min</th>\n",
       "      <td>0.000000</td>\n",
       "      <td>1.000000</td>\n",
       "      <td>1.000000</td>\n",
       "      <td>1.000000</td>\n",
       "      <td>1.000000</td>\n",
       "      <td>1.000000</td>\n",
       "      <td>1.000000</td>\n",
       "    </tr>\n",
       "    <tr>\n",
       "      <th>25%</th>\n",
       "      <td>0.000000</td>\n",
       "      <td>4.000000</td>\n",
       "      <td>2.000000</td>\n",
       "      <td>3.000000</td>\n",
       "      <td>3.000000</td>\n",
       "      <td>3.000000</td>\n",
       "      <td>4.000000</td>\n",
       "    </tr>\n",
       "    <tr>\n",
       "      <th>50%</th>\n",
       "      <td>1.000000</td>\n",
       "      <td>5.000000</td>\n",
       "      <td>3.000000</td>\n",
       "      <td>3.000000</td>\n",
       "      <td>4.000000</td>\n",
       "      <td>4.000000</td>\n",
       "      <td>4.000000</td>\n",
       "    </tr>\n",
       "    <tr>\n",
       "      <th>75%</th>\n",
       "      <td>1.000000</td>\n",
       "      <td>5.000000</td>\n",
       "      <td>3.000000</td>\n",
       "      <td>4.000000</td>\n",
       "      <td>4.000000</td>\n",
       "      <td>4.000000</td>\n",
       "      <td>5.000000</td>\n",
       "    </tr>\n",
       "    <tr>\n",
       "      <th>max</th>\n",
       "      <td>1.000000</td>\n",
       "      <td>5.000000</td>\n",
       "      <td>5.000000</td>\n",
       "      <td>5.000000</td>\n",
       "      <td>5.000000</td>\n",
       "      <td>5.000000</td>\n",
       "      <td>5.000000</td>\n",
       "    </tr>\n",
       "  </tbody>\n",
       "</table>\n",
       "</div>"
      ],
      "text/plain": [
       "       happinessStatus      onTime  expectedContents  allOrdered   goodPrice  \\\n",
       "count       126.000000  126.000000        126.000000  126.000000  126.000000   \n",
       "mean          0.547619    4.333333          2.531746    3.309524    3.746032   \n",
       "std           0.499714    0.800000          1.114892    1.023440    0.875776   \n",
       "min           0.000000    1.000000          1.000000    1.000000    1.000000   \n",
       "25%           0.000000    4.000000          2.000000    3.000000    3.000000   \n",
       "50%           1.000000    5.000000          3.000000    3.000000    4.000000   \n",
       "75%           1.000000    5.000000          3.000000    4.000000    4.000000   \n",
       "max           1.000000    5.000000          5.000000    5.000000    5.000000   \n",
       "\n",
       "       orderSatisfication  easyOrdering  \n",
       "count          126.000000    126.000000  \n",
       "mean             3.650794      4.253968  \n",
       "std              1.147641      0.809311  \n",
       "min              1.000000      1.000000  \n",
       "25%              3.000000      4.000000  \n",
       "50%              4.000000      4.000000  \n",
       "75%              4.000000      5.000000  \n",
       "max              5.000000      5.000000  "
      ]
     },
     "execution_count": 4,
     "metadata": {},
     "output_type": "execute_result"
    }
   ],
   "source": [
    "data.describe()"
   ]
  },
  {
   "cell_type": "code",
   "execution_count": 5,
   "metadata": {},
   "outputs": [
    {
     "data": {
      "text/plain": [
       "1    69\n",
       "0    57\n",
       "Name: happinessStatus, dtype: int64"
      ]
     },
     "execution_count": 5,
     "metadata": {},
     "output_type": "execute_result"
    }
   ],
   "source": [
    "# Check happines status stats\n",
    "data['happinessStatus'].value_counts()"
   ]
  },
  {
   "cell_type": "code",
   "execution_count": 6,
   "metadata": {},
   "outputs": [
    {
     "data": {
      "text/html": [
       "<div>\n",
       "<style scoped>\n",
       "    .dataframe tbody tr th:only-of-type {\n",
       "        vertical-align: middle;\n",
       "    }\n",
       "\n",
       "    .dataframe tbody tr th {\n",
       "        vertical-align: top;\n",
       "    }\n",
       "\n",
       "    .dataframe thead th {\n",
       "        text-align: right;\n",
       "    }\n",
       "</style>\n",
       "<table border=\"1\" class=\"dataframe\">\n",
       "  <thead>\n",
       "    <tr style=\"text-align: right;\">\n",
       "      <th></th>\n",
       "      <th>onTime</th>\n",
       "      <th>expectedContents</th>\n",
       "      <th>allOrdered</th>\n",
       "      <th>goodPrice</th>\n",
       "      <th>orderSatisfication</th>\n",
       "      <th>easyOrdering</th>\n",
       "    </tr>\n",
       "    <tr>\n",
       "      <th>happinessStatus</th>\n",
       "      <th></th>\n",
       "      <th></th>\n",
       "      <th></th>\n",
       "      <th></th>\n",
       "      <th></th>\n",
       "      <th></th>\n",
       "    </tr>\n",
       "  </thead>\n",
       "  <tbody>\n",
       "    <tr>\n",
       "      <th>0</th>\n",
       "      <td>4.087719</td>\n",
       "      <td>2.561404</td>\n",
       "      <td>3.140351</td>\n",
       "      <td>3.684211</td>\n",
       "      <td>3.368421</td>\n",
       "      <td>4.105263</td>\n",
       "    </tr>\n",
       "    <tr>\n",
       "      <th>1</th>\n",
       "      <td>4.536232</td>\n",
       "      <td>2.507246</td>\n",
       "      <td>3.449275</td>\n",
       "      <td>3.797101</td>\n",
       "      <td>3.884058</td>\n",
       "      <td>4.376812</td>\n",
       "    </tr>\n",
       "  </tbody>\n",
       "</table>\n",
       "</div>"
      ],
      "text/plain": [
       "                   onTime  expectedContents  allOrdered  goodPrice  \\\n",
       "happinessStatus                                                      \n",
       "0                4.087719          2.561404    3.140351   3.684211   \n",
       "1                4.536232          2.507246    3.449275   3.797101   \n",
       "\n",
       "                 orderSatisfication  easyOrdering  \n",
       "happinessStatus                                    \n",
       "0                          3.368421      4.105263  \n",
       "1                          3.884058      4.376812  "
      ]
     },
     "execution_count": 6,
     "metadata": {},
     "output_type": "execute_result"
    }
   ],
   "source": [
    "data.groupby('happinessStatus').mean()"
   ]
  },
  {
   "cell_type": "code",
   "execution_count": 9,
   "metadata": {},
   "outputs": [],
   "source": [
    "def analyzeAttribute(data, colName) :\n",
    "    # Display Average\n",
    "    print(\"Average \" + colName + \" value: \", data[colName].mean())\n",
    "    \n",
    "    # Plot histogram\n",
    "    bins = np.arange(1,7) - 0.5\n",
    "    plt.hist(data[colName], bins)\n",
    "    plt.title(colName)\n",
    "    plt.show()\n",
    "    "
   ]
  },
  {
   "cell_type": "code",
   "execution_count": 31,
   "metadata": {},
   "outputs": [
    {
     "name": "stdout",
     "output_type": "stream",
     "text": [
      "Average onTime value:  4.333333333333333\n"
     ]
    },
    {
     "data": {
      "image/png": "[encoded data removed]",
      "text/plain": [
       "<Figure size 432x288 with 1 Axes>"
      ]
     },
     "metadata": {
      "needs_background": "light"
     },
     "output_type": "display_data"
    },
    {
     "name": "stdout",
     "output_type": "stream",
     "text": [
      "Average expectedContents value:  2.5317460317460316\n"
     ]
    },
    {
     "data": {
      "image/png": "[encoded data removed]",
      "text/plain": [
       "<Figure size 432x288 with 1 Axes>"
      ]
     },
     "metadata": {
      "needs_background": "light"
     },
     "output_type": "display_data"
    },
    {
     "name": "stdout",
     "output_type": "stream",
     "text": [
      "Average allOrdered value:  3.3095238095238093\n"
     ]
    },
    {
     "data": {
      "image/png": "[encoded data removed]",
      "text/plain": [
       "<Figure size 432x288 with 1 Axes>"
      ]
     },
     "metadata": {
      "needs_background": "light"
     },
     "output_type": "display_data"
    },
    {
     "name": "stdout",
     "output_type": "stream",
     "text": [
      "Average goodPrice value:  3.746031746031746\n"
     ]
    },
    {
     "data": {
      "image/png": "[encoded data removed]",
      "text/plain": [
       "<Figure size 432x288 with 1 Axes>"
      ]
     },
     "metadata": {
      "needs_background": "light"
     },
     "output_type": "display_data"
    },
    {
     "name": "stdout",
     "output_type": "stream",
     "text": [
      "Average orderSatisfication value:  3.6507936507936507\n"
     ]
    },
    {
     "data": {
      "image/png": "[encoded data removed]",
      "text/plain": [
       "<Figure size 432x288 with 1 Axes>"
      ]
     },
     "metadata": {
      "needs_background": "light"
     },
     "output_type": "display_data"
    },
    {
     "name": "stdout",
     "output_type": "stream",
     "text": [
      "Average easyOrdering value:  4.253968253968254\n"
     ]
    },
    {
     "data": {
      "image/png": "[encoded data removed]",
      "text/plain": [
       "<Figure size 432x288 with 1 Axes>"
      ]
     },
     "metadata": {
      "needs_background": "light"
     },
     "output_type": "display_data"
    }
   ],
   "source": [
    "for i in range(1,7) :\n",
    "    analyzeAttribute(data, data.columns[i])"
   ]
  },
  {
   "cell_type": "markdown",
   "metadata": {},
   "source": [
    "# Preprocess Data\n",
    "Divide into 80% training, 20% testing\n"
   ]
  },
  {
   "cell_type": "code",
   "execution_count": 8,
   "metadata": {},
   "outputs": [
    {
     "name": "stdout",
     "output_type": "stream",
     "text": [
      "(100, 6)\n",
      "(100,)\n",
      "(26, 6)\n",
      "(26,)\n"
     ]
    }
   ],
   "source": [
    "# Divide Data into X and Y\n",
    "X = data.drop(columns='happinessStatus')\n",
    "Y = data['happinessStatus']\n",
    "\n",
    "# Split data into training and testing\n",
    "xTrain, xTest, yTrain, yTest = train_test_split(X, Y, test_size = 0.2, random_state = 0)\n",
    "\n",
    "print(xTrain.shape)\n",
    "print(yTrain.shape)\n",
    "print(xTest.shape)\n",
    "print(yTest.shape)"
   ]
  },
  {
   "cell_type": "markdown",
   "metadata": {},
   "source": [
    "# Train Models\n",
    "Create various models here and train them using the training data.  Test them on the separate test data and evaluate them with visual aids."
   ]
  },
  {
   "cell_type": "markdown",
   "metadata": {},
   "source": [
    "## 1. K Nearest Neighbours (KNN)\n",
    "A data classification algorithm that estimates how likely a data point is to be a member of one group or the other depending on what group the data points nearest to it are in.\n",
    "\n",
    "Starting with creating training and testing a model with the default settings but you loop through various K values"
   ]
  },
  {
   "cell_type": "code",
   "execution_count": 15,
   "metadata": {},
   "outputs": [
    {
     "name": "stdout",
     "output_type": "stream",
     "text": [
      "10 0.7407407407407408\n"
     ]
    },
    {
     "data": {
      "text/plain": [
       "Text(0, 0.5, 'F1 Score')"
      ]
     },
     "execution_count": 15,
     "metadata": {},
     "output_type": "execute_result"
    },
    {
     "data": {
      "image/png": "[encoded data removed]",
      "text/plain": [
       "<Figure size 432x288 with 1 Axes>"
      ]
     },
     "metadata": {
      "needs_background": "light"
     },
     "output_type": "display_data"
    }
   ],
   "source": [
    "from sklearn.neighbors import KNeighborsClassifier\n",
    "\n",
    "kRange = range(1,75)\n",
    "results = []\n",
    "\n",
    "# Test out a range of different k values\n",
    "for k in kRange :\n",
    "    KNN = KNeighborsClassifier(n_neighbors = k)\n",
    "    KNN = KNN.fit(xTrain, yTrain)\n",
    "    \n",
    "    yPredict = KNN.predict(xTest)\n",
    "    \n",
    "    results.append(f1_score(yTest, yPredict))\n",
    "    \n",
    "print(results.index(max(results))+1, max(results)) # +1 because index starts at 0 and our results start with a kvalue of 1\n",
    "\n",
    "plt.plot(range(1,len(results)+1), results)\n",
    "plt.xlabel(\"K Value\")\n",
    "plt.ylabel(\"F1 Score\")"
   ]
  },
  {
   "cell_type": "code",
   "execution_count": 16,
   "metadata": {},
   "outputs": [
    {
     "name": "stdout",
     "output_type": "stream",
     "text": [
      "F1 Score  0.7407407407407408\n",
      "              precision    recall  f1-score   support\n",
      "\n",
      "           0       0.75      0.69      0.72        13\n",
      "           1       0.71      0.77      0.74        13\n",
      "\n",
      "    accuracy                           0.73        26\n",
      "   macro avg       0.73      0.73      0.73        26\n",
      "weighted avg       0.73      0.73      0.73        26\n",
      "\n"
     ]
    },
    {
     "data": {
      "image/png": "[encoded data removed]",
      "text/plain": [
       "<Figure size 432x288 with 2 Axes>"
      ]
     },
     "metadata": {
      "needs_background": "light"
     },
     "output_type": "display_data"
    }
   ],
   "source": [
    "# Recreate k nearest neighbours model with max f1 score aka where k = 10\n",
    "KNN = KNeighborsClassifier(n_neighbors=10)\n",
    "KNN = KNN.fit(xTrain, yTrain)\n",
    "\n",
    "yPredict = KNN.predict(xTest)\n",
    "\n",
    "resultsReport(yTest, yPredict)"
   ]
  },
  {
   "cell_type": "markdown",
   "metadata": {},
   "source": [
    "#### KNN Hyperparameter tuning\n",
    "Create a new KNN model with different setting combinations.  zsettings explored are nearest neighbors, weights, algoroithm, leaf size and power."
   ]
  },
  {
   "cell_type": "code",
   "execution_count": 17,
   "metadata": {},
   "outputs": [
    {
     "name": "stdout",
     "output_type": "stream",
     "text": [
      "0.7741935483870968\n",
      "14_uniform_auto_25_1\n"
     ]
    }
   ],
   "source": [
    "# Hyperparameters list\n",
    "n_neighbors = range(1,20)\n",
    "weights = ['uniform', 'distance']\n",
    "algo = ['auto', 'ball_tree', 'kd_tree', 'brute']\n",
    "leafSize = range(1,30)\n",
    "power = [1,2]\n",
    "\n",
    "# Initialize model tracking variables\n",
    "bestScore = 0\n",
    "hyperParameterString = ''\n",
    "\n",
    "# Loop through combinations of hyperparameters\n",
    "for neigh in n_neighbors :\n",
    "    for weight in weights :\n",
    "        for alg in algo :\n",
    "            for leaf in leafSize :\n",
    "                for p in power:\n",
    "                    # Create model with hyperparameter set\n",
    "                    KNN = KNeighborsClassifier(n_neighbors = neigh,\n",
    "                                               weights = weight,\n",
    "                                               algorithm = alg,\n",
    "                                               leaf_size = leaf,\n",
    "                                               p = p)\n",
    "                    # Fit model to training data\n",
    "                    KNN = KNN.fit(xTrain, yTrain)\n",
    "\n",
    "                    # Make predictions on test data\n",
    "                    yPredict = KNN.predict(xTest)\n",
    "                    \n",
    "                    # Check if model scores better than any previous model\n",
    "                    if f1_score(yTest, yPredict) > bestScore :\n",
    "                        # Update best score\n",
    "                        bestScore = f1_score(yTest, yPredict)\n",
    "                        # Update hyperparameter String to keep track of what settings produced the best score\n",
    "                        hyperParameterString = str(neigh) + '_' + weight + '_' + alg + '_' + str(leaf) + '_' + str(p)\n",
    "                        \n",
    "\n",
    "\n",
    "\n",
    "# Display results\n",
    "print(bestScore)\n",
    "print(hyperParameterString)"
   ]
  },
  {
   "cell_type": "code",
   "execution_count": 18,
   "metadata": {},
   "outputs": [
    {
     "name": "stdout",
     "output_type": "stream",
     "text": [
      "0.7741935483870968\n",
      "F1 Score  0.7741935483870968\n",
      "              precision    recall  f1-score   support\n",
      "\n",
      "           0       0.88      0.54      0.67        13\n",
      "           1       0.67      0.92      0.77        13\n",
      "\n",
      "    accuracy                           0.73        26\n",
      "   macro avg       0.77      0.73      0.72        26\n",
      "weighted avg       0.77      0.73      0.72        26\n",
      "\n"
     ]
    },
    {
     "data": {
      "image/png": "[encoded data removed]",
      "text/plain": [
       "<Figure size 432x288 with 2 Axes>"
      ]
     },
     "metadata": {
      "needs_background": "light"
     },
     "output_type": "display_data"
    }
   ],
   "source": [
    "# Recreate k nearest neighbours model with max f1 score aka where k = 10\n",
    "KNN = KNeighborsClassifier(n_neighbors=14, weights='uniform', algorithm='auto', leaf_size=25, p=1)\n",
    "# Train\n",
    "KNN = KNN.fit(xTrain, yTrain)\n",
    "\n",
    "# Predict\n",
    "yPredict = KNN.predict(xTest)\n",
    "\n",
    "# Show Results\n",
    "resultsReport(yTest, yPredict)"
   ]
  },
  {
   "cell_type": "markdown",
   "metadata": {},
   "source": [
    "Comparing the two KNN models produced here the first one with nearest neighbours of 10 has an accuracy of 73% and predicted 14 instances as happy and 12 as unhappy.  The hyperparameter tuned model with 14 nearest neighbours, uniform weights, auto algorithm, 25 leaf size and power of 1 produced an increase an accuracy to 77% but showcased more of a bias towards predicting customers as happy (18) compared to unhappy (8).  Although the accuracy increased, the first model is more useful as the lower bias showcases better predictability.\n",
    "\n",
    "This first model is the best model and the one chosen.  Below showcases different models tried and their respective results."
   ]
  },
  {
   "cell_type": "markdown",
   "metadata": {},
   "source": [
    "## 2. Support Vector Machine (SVM)\n",
    "Outputs a hyperplane that best separates the data points, thereby classifying inputs as one class or another.\n",
    "\n",
    "Start with creating, training and testing a model with default settings."
   ]
  },
  {
   "cell_type": "code",
   "execution_count": 11,
   "metadata": {},
   "outputs": [
    {
     "name": "stdout",
     "output_type": "stream",
     "text": [
      "F1 Score  0.5517241379310345\n",
      "              precision    recall  f1-score   support\n",
      "\n",
      "           0       0.50      0.38      0.43        13\n",
      "           1       0.50      0.62      0.55        13\n",
      "\n",
      "    accuracy                           0.50        26\n",
      "   macro avg       0.50      0.50      0.49        26\n",
      "weighted avg       0.50      0.50      0.49        26\n",
      "\n"
     ]
    },
    {
     "data": {
      "image/png": "[encoded data removed]",
      "text/plain": [
       "<Figure size 432x288 with 2 Axes>"
      ]
     },
     "metadata": {
      "needs_background": "light"
     },
     "output_type": "display_data"
    }
   ],
   "source": [
    "from sklearn import svm\n",
    "from sklearn.pipeline import Pipeline\n",
    "from sklearn.preprocessing import StandardScaler\n",
    "\n",
    "# Create model\n",
    "SVMachine = Pipeline([('scale', StandardScaler()),# Scale inputs to 0 mean and 1 variance\n",
    "                  ('SVM', svm.SVC())])\n",
    "# Fit model to training dataset\n",
    "SVMachine = SVMachine.fit(xTrain, yTrain)\n",
    "\n",
    "# Make predictions on test data\n",
    "yPredict = SVMachine.predict(xTest)\n",
    "\n",
    "# Analyze results and display visual output\n",
    "resultsReport(yTest, yPredict)"
   ]
  },
  {
   "cell_type": "markdown",
   "metadata": {},
   "source": [
    "#### Hyperparameter tuning for SVM\n",
    "Create SVM models with every type of hyperparameter combination for kernel type, degree and gamma, keep track of F1 scores and output model with best score."
   ]
  },
  {
   "cell_type": "code",
   "execution_count": 13,
   "metadata": {},
   "outputs": [
    {
     "name": "stdout",
     "output_type": "stream",
     "text": [
      "0.8000000000000002\n",
      "linear_1_scale\n"
     ]
    }
   ],
   "source": [
    "# SVM\n",
    "# Hyper parameter options\n",
    "kernelType = ['linear', 'poly', 'rbf', 'sigmoid']#, 'precomputed']\n",
    "degree = [1, 2, 3, 4] # Only applicable for kernel = poly\n",
    "gamma = ['scale', 'auto'] # Only applicable for kernel = rbf poly or sigmoid\n",
    "\n",
    "# Performance trackign variables\n",
    "bestScore = 0\n",
    "hyperParameterString = ''\n",
    "\n",
    "# Loop through hyperparameters and create specific models\n",
    "for k in kernelType :\n",
    "    for d in degree :\n",
    "        for g in gamma :\n",
    "            \n",
    "            # Create models with hyper parameter set\n",
    "            SVMachine = Pipeline([('scale', StandardScaler()),# Scale inputs to 0 mean and 1 variance\n",
    "                              ('SVM', svm.SVC(kernel=k, degree=d, gamma=g))])\n",
    "            # Train Model\n",
    "            SVMachine = SVMachine.fit(xTrain, yTrain)\n",
    "            \n",
    "            # Make predictions on test data set\n",
    "            yPredict = SVMachine.predict(xTest)\n",
    "            \n",
    "            # Check if model produced a score better than the previous best\n",
    "            if f1_score(yTest, yPredict) > bestScore :\n",
    "                # Update best score tracking variable\n",
    "                bestScore = f1_score(yTest, yPredict)\n",
    "                # Update hyperparameter string to keep track of settings that produced the best model\n",
    "                hyperParameterString = k + '_' + str(d) + '_' + g\n",
    "\n",
    "# Display best model result\n",
    "print(bestScore)\n",
    "print(hyperParameterString)"
   ]
  },
  {
   "cell_type": "code",
   "execution_count": 14,
   "metadata": {},
   "outputs": [
    {
     "name": "stdout",
     "output_type": "stream",
     "text": [
      "0.8000000000000002\n",
      "F1 Score  0.8000000000000002\n",
      "              precision    recall  f1-score   support\n",
      "\n",
      "           0       0.89      0.62      0.73        13\n",
      "           1       0.71      0.92      0.80        13\n",
      "\n",
      "    accuracy                           0.77        26\n",
      "   macro avg       0.80      0.77      0.76        26\n",
      "weighted avg       0.80      0.77      0.76        26\n",
      "\n"
     ]
    },
    {
     "data": {
      "image/png": "[encoded data removed]",
      "text/plain": [
       "<Figure size 432x288 with 2 Axes>"
      ]
     },
     "metadata": {
      "needs_background": "light"
     },
     "output_type": "display_data"
    }
   ],
   "source": [
    "# Recreate SVM model with highest score (80%) -> kernel = linear, degree = 1, gamma = scale\n",
    "SVMachine = Pipeline([('scale', StandardScaler()),# Scale inputs to 0 mean and 1 variance\n",
    "                    ('SVM', svm.SVC(kernel='linear', degree=1, gamma='scale'))])\n",
    "# Train model with appropriate settings\n",
    "SVMachine = SVMachine.fit(xTrain, yTrain)\n",
    "\n",
    "# Make predictions on test data set\n",
    "yPredict = SVMachine.predict(xTest)\n",
    "\n",
    "# Display Results\n",
    "resultsReport(yTest, yPredict)"
   ]
  },
  {
   "cell_type": "markdown",
   "metadata": {},
   "source": [
    "THe hyperparameter tuned SVM model produces an F1 score of 80%.  While higher than the non hyperparameter tuned SVM model and higher than both KNN models produced, it predicts 17 customers as happy and only 9 as unhappy.  That 7% accuracy increase over the best KNN model is not enough to justify the bias that this model has."
   ]
  },
  {
   "cell_type": "markdown",
   "metadata": {},
   "source": [
    "## 3. Logistic regression\n",
    "The logistic regression model is used to model the probability of a certain class or event existing."
   ]
  },
  {
   "cell_type": "code",
   "execution_count": 32,
   "metadata": {},
   "outputs": [
    {
     "name": "stdout",
     "output_type": "stream",
     "text": [
      "F1 Score  0.6875\n",
      "              precision    recall  f1-score   support\n",
      "\n",
      "           0       0.71      0.38      0.50        13\n",
      "           1       0.58      0.85      0.69        13\n",
      "\n",
      "    accuracy                           0.62        26\n",
      "   macro avg       0.65      0.62      0.59        26\n",
      "weighted avg       0.65      0.62      0.59        26\n",
      "\n"
     ]
    },
    {
     "data": {
      "image/png": "[encoded data removed]",
      "text/plain": [
       "<Figure size 432x288 with 2 Axes>"
      ]
     },
     "metadata": {
      "needs_background": "light"
     },
     "output_type": "display_data"
    }
   ],
   "source": [
    "from sklearn.linear_model import LogisticRegression\n",
    "# Create model\n",
    "logReg = LogisticRegression(max_iter=100000)\n",
    "# Fit model to training data\n",
    "logReg = logReg.fit(xTrain, yTrain)\n",
    "# Make predictions on model\n",
    "yPredict = logReg.predict(xTest)\n",
    "\n",
    "# Display results\n",
    "resultsReport(yTest, yPredict)"
   ]
  },
  {
   "cell_type": "markdown",
   "metadata": {},
   "source": [
    "The logistic regression model performs poorly as its accuracy is 68% and it has a bias towards predicting happy customers (19) versus unhappy customers (7).  Due to these resasons this model will not be chosen."
   ]
  },
  {
   "cell_type": "markdown",
   "metadata": {},
   "source": [
    "## 4. Gaussian Naive Bays\n",
    "Model applies Bayes' theorem as a probabilistic classifier"
   ]
  },
  {
   "cell_type": "code",
   "execution_count": 35,
   "metadata": {},
   "outputs": [
    {
     "name": "stdout",
     "output_type": "stream",
     "text": [
      "F1 Score  0.6666666666666667\n",
      "              precision    recall  f1-score   support\n",
      "\n",
      "           0       0.67      0.46      0.55        13\n",
      "           1       0.59      0.77      0.67        13\n",
      "\n",
      "    accuracy                           0.62        26\n",
      "   macro avg       0.63      0.62      0.61        26\n",
      "weighted avg       0.63      0.62      0.61        26\n",
      "\n"
     ]
    },
    {
     "data": {
      "image/png": "[encoded data removed]",
      "text/plain": [
       "<Figure size 432x288 with 2 Axes>"
      ]
     },
     "metadata": {
      "needs_background": "light"
     },
     "output_type": "display_data"
    }
   ],
   "source": [
    "from sklearn.naive_bayes import GaussianNB\n",
    "# Create model\n",
    "GNB = GaussianNB()\n",
    "# Train model on training dataset\n",
    "GNB = GNB.fit(xTrain, yTrain)\n",
    "\n",
    "# Make predictions on test data set\n",
    "yPredict = GNB.predict(xTest)\n",
    "\n",
    "# Display results\n",
    "resultsReport(yTest, yPredict)"
   ]
  },
  {
   "cell_type": "markdown",
   "metadata": {},
   "source": [
    "Similar to logistic regression the model has a lower accuracy and a bias towards predicting happy customers (17 versus 9).  This model will be discarded"
   ]
  },
  {
   "cell_type": "markdown",
   "metadata": {},
   "source": [
    "## 5. Stochastic Gradient Descent\n"
   ]
  },
  {
   "cell_type": "code",
   "execution_count": 36,
   "metadata": {},
   "outputs": [
    {
     "name": "stdout",
     "output_type": "stream",
     "text": [
      "F1 Score  0.6666666666666666\n",
      "              precision    recall  f1-score   support\n",
      "\n",
      "           0       0.00      0.00      0.00        13\n",
      "           1       0.50      1.00      0.67        13\n",
      "\n",
      "    accuracy                           0.50        26\n",
      "   macro avg       0.25      0.50      0.33        26\n",
      "weighted avg       0.25      0.50      0.33        26\n",
      "\n"
     ]
    },
    {
     "name": "stderr",
     "output_type": "stream",
     "text": [
      "/Users/andrewmullen/opt/anaconda3/lib/python3.7/site-packages/sklearn/metrics/_classification.py:1272: UndefinedMetricWarning: Precision and F-score are ill-defined and being set to 0.0 in labels with no predicted samples. Use `zero_division` parameter to control this behavior.\n",
      "  _warn_prf(average, modifier, msg_start, len(result))\n"
     ]
    },
    {
     "data": {
      "image/png": "[encoded data removed]",
      "text/plain": [
       "<Figure size 432x288 with 2 Axes>"
      ]
     },
     "metadata": {
      "needs_background": "light"
     },
     "output_type": "display_data"
    }
   ],
   "source": [
    "from sklearn.linear_model import SGDClassifier\n",
    "\n",
    "# Create Model\n",
    "SGD = SGDClassifier()\n",
    "# Train model\n",
    "SGD = SGD.fit(xTrain, yTrain)\n",
    "\n",
    "# Make predictions on test dataset\n",
    "yPredict = SGD.predict(xTest)\n",
    "\n",
    "# Display results\n",
    "resultsReport(yTest, yPredict)"
   ]
  },
  {
   "cell_type": "markdown",
   "metadata": {},
   "source": [
    "#### SGD Hyperparameter Tuning\n",
    "Create models with various combinations of sklearn's SGD setting.  Settings include loss function, penalty, and alpha/learning rate."
   ]
  },
  {
   "cell_type": "code",
   "execution_count": 37,
   "metadata": {},
   "outputs": [
    {
     "name": "stdout",
     "output_type": "stream",
     "text": [
      "0.7222222222222222\n",
      "log_l2_0.01\n"
     ]
    }
   ],
   "source": [
    "# Stocahstic Gradient Descent Hyperparameter tuning\n",
    "# Hyperparameter options\n",
    "loss = ['hinge', 'log', 'modified_huber', 'squared_hinge', 'perceptron']\n",
    "penalty = ['l2', 'l1', 'elasticnet']\n",
    "alpha = [0.000001, 0.00001, 0.0001, 0.001, 0.01]\n",
    "\n",
    "# Performance tracking variables\n",
    "bestScore = 0\n",
    "hyperParameterString = ''\n",
    "\n",
    "for l in loss :\n",
    "    for p in penalty :\n",
    "        for a in alpha :\n",
    "            SGD = SGDClassifier(loss=l, penalty=p, alpha=a)\n",
    "            SGD = SGD.fit(xTrain, yTrain)\n",
    "\n",
    "            yPredict = SGD.predict(xTest)\n",
    "            \n",
    "            if f1_score(yTest, yPredict) > bestScore :\n",
    "                bestScore = f1_score(yTest, yPredict)\n",
    "                hyperParameterString = l + '_' + p + '_' + str(a)\n",
    "                \n",
    "# Print results\n",
    "print(bestScore)\n",
    "print(hyperParameterString)"
   ]
  },
  {
   "cell_type": "code",
   "execution_count": 39,
   "metadata": {},
   "outputs": [
    {
     "name": "stdout",
     "output_type": "stream",
     "text": [
      "0.0\n",
      "F1 Score  0.0\n",
      "              precision    recall  f1-score   support\n",
      "\n",
      "           0       0.50      1.00      0.67        13\n",
      "           1       0.00      0.00      0.00        13\n",
      "\n",
      "    accuracy                           0.50        26\n",
      "   macro avg       0.25      0.50      0.33        26\n",
      "weighted avg       0.25      0.50      0.33        26\n",
      "\n"
     ]
    },
    {
     "name": "stderr",
     "output_type": "stream",
     "text": [
      "/Users/andrewmullen/opt/anaconda3/lib/python3.7/site-packages/sklearn/metrics/_classification.py:1272: UndefinedMetricWarning: Precision and F-score are ill-defined and being set to 0.0 in labels with no predicted samples. Use `zero_division` parameter to control this behavior.\n",
      "  _warn_prf(average, modifier, msg_start, len(result))\n"
     ]
    },
    {
     "data": {
      "image/png": "[encoded data removed]",
      "text/plain": [
       "<Figure size 432x288 with 2 Axes>"
      ]
     },
     "metadata": {
      "needs_background": "light"
     },
     "output_type": "display_data"
    }
   ],
   "source": [
    "# Recreate model with highest f1 score\n",
    "SGD = SGDClassifier(loss='hinge', penalty='l1', alpha=0.001)\n",
    "SGD = SGD.fit(xTrain, yTrain)\n",
    "\n",
    "yPredict = SGD.predict(xTest)\n",
    "\n",
    "print(f1_score(yTest, yPredict))\n",
    "resultsReport(yTest, yPredict)"
   ]
  },
  {
   "cell_type": "markdown",
   "metadata": {},
   "source": [
    "The SGD model has extreme bias and terrible predictibility, even after trying to tune hyperparameters.  The algorithm also produces widely varying results every time which indicates that when it performs well it overfits the data and will not be robust enough for new unforseen data.  Therefore, it will be discarded."
   ]
  },
  {
   "cell_type": "markdown",
   "metadata": {},
   "source": [
    "## 6. Decision Tree"
   ]
  },
  {
   "cell_type": "code",
   "execution_count": 40,
   "metadata": {},
   "outputs": [],
   "source": [
    "from sklearn.tree import DecisionTreeClassifier\n",
    "\n",
    "tree = DecisionTreeClassifier()\n",
    "tree.fit(xTrain, yTrain)\n",
    "\n",
    "yPredict = tree.predict(xTest)"
   ]
  },
  {
   "cell_type": "code",
   "execution_count": 41,
   "metadata": {},
   "outputs": [
    {
     "name": "stdout",
     "output_type": "stream",
     "text": [
      "F1 Score  0.48000000000000004\n",
      "              precision    recall  f1-score   support\n",
      "\n",
      "           0       0.50      0.54      0.52        13\n",
      "           1       0.50      0.46      0.48        13\n",
      "\n",
      "    accuracy                           0.50        26\n",
      "   macro avg       0.50      0.50      0.50        26\n",
      "weighted avg       0.50      0.50      0.50        26\n",
      "\n"
     ]
    },
    {
     "data": {
      "image/png": "[encoded data removed]",
      "text/plain": [
       "<Figure size 432x288 with 2 Axes>"
      ]
     },
     "metadata": {
      "needs_background": "light"
     },
     "output_type": "display_data"
    }
   ],
   "source": [
    "resultsReport(yTest, yPredict)"
   ]
  },
  {
   "cell_type": "markdown",
   "metadata": {},
   "source": [
    "#### Decision Tree Hyperparameter Tuning\n",
    "Create, train and test models using every combination of selected parameters. Parameters include criterion, splitter, max depth "
   ]
  },
  {
   "cell_type": "code",
   "execution_count": 42,
   "metadata": {},
   "outputs": [
    {
     "name": "stdout",
     "output_type": "stream",
     "text": [
      "0.7058823529411765\n",
      "entropy_random_3\n"
     ]
    }
   ],
   "source": [
    "# Decision Tree\n",
    "# Hyperparameter options\n",
    "criterion = ['gini', 'entropy']\n",
    "splitter = ['best', 'random']\n",
    "max_depth = range(3,10)\n",
    "\n",
    "# Performance trackign variables\n",
    "bestScore = 0\n",
    "hyperParameterString = ''\n",
    "\n",
    "for c in criterion :\n",
    "    for s in splitter :\n",
    "        for m in max_depth :\n",
    "            tree = DecisionTreeClassifier(criterion=c, splitter=s, max_depth=m)\n",
    "            tree = tree.fit(xTrain, yTrain)\n",
    "            \n",
    "            yPredict = tree.predict(xTest)\n",
    "            \n",
    "            if f1_score(yTest, yPredict) > bestScore :\n",
    "                bestScore = f1_score(yTest, yPredict)\n",
    "                hyperParameterString = c + '_' + s + '_' + str(m)\n",
    "                \n",
    "print(bestScore)\n",
    "print(hyperParameterString)"
   ]
  },
  {
   "cell_type": "code",
   "execution_count": 43,
   "metadata": {},
   "outputs": [
    {
     "name": "stdout",
     "output_type": "stream",
     "text": [
      "0.7058823529411765\n",
      "F1 Score  0.7058823529411765\n",
      "              precision    recall  f1-score   support\n",
      "\n",
      "           0       0.80      0.31      0.44        13\n",
      "           1       0.57      0.92      0.71        13\n",
      "\n",
      "    accuracy                           0.62        26\n",
      "   macro avg       0.69      0.62      0.58        26\n",
      "weighted avg       0.69      0.62      0.58        26\n",
      "\n"
     ]
    },
    {
     "data": {
      "image/png": "[encoded data removed]",
      "text/plain": [
       "<Figure size 432x288 with 2 Axes>"
      ]
     },
     "metadata": {
      "needs_background": "light"
     },
     "output_type": "display_data"
    }
   ],
   "source": [
    "# Recreate decision tree with best f1 score (70%)\n",
    "tree = DecisionTreeClassifier(criterion='entropy', splitter='random', max_depth=4)\n",
    "tree = tree.fit(xTrain, yTrain)\n",
    "\n",
    "yPredict = tree.predict(xTest)\n",
    "\n",
    "print(f1_score(yTest, yPredict))\n",
    "resultsReport(yTest, yPredict)"
   ]
  },
  {
   "cell_type": "markdown",
   "metadata": {},
   "source": [
    "The decision tree model has high bias towards happy customers (21 versus 5) and a lower accuracy (70%) than previous ones.  It will be discarded."
   ]
  },
  {
   "cell_type": "markdown",
   "metadata": {},
   "source": [
    "## 7. Random Forest"
   ]
  },
  {
   "cell_type": "code",
   "execution_count": 44,
   "metadata": {},
   "outputs": [],
   "source": [
    "from sklearn.ensemble import RandomForestClassifier\n",
    "\n",
    "rf = RandomForestClassifier()\n",
    "rf = rf.fit(xTrain, yTrain)\n",
    "\n",
    "yPredict = rf.predict(xTest)"
   ]
  },
  {
   "cell_type": "code",
   "execution_count": 45,
   "metadata": {},
   "outputs": [
    {
     "name": "stdout",
     "output_type": "stream",
     "text": [
      "F1 Score  0.5714285714285715\n",
      "              precision    recall  f1-score   support\n",
      "\n",
      "           0       0.55      0.46      0.50        13\n",
      "           1       0.53      0.62      0.57        13\n",
      "\n",
      "    accuracy                           0.54        26\n",
      "   macro avg       0.54      0.54      0.54        26\n",
      "weighted avg       0.54      0.54      0.54        26\n",
      "\n"
     ]
    },
    {
     "data": {
      "image/png": "[encoded data removed]",
      "text/plain": [
       "<Figure size 432x288 with 2 Axes>"
      ]
     },
     "metadata": {
      "needs_background": "light"
     },
     "output_type": "display_data"
    }
   ],
   "source": [
    "resultsReport(yTest, yPredict)"
   ]
  },
  {
   "cell_type": "markdown",
   "metadata": {},
   "source": [
    "The random forest model showcases slight bias towards predicting happy customers (15 vs 11) and only has an accuracy of 57% therefore it will not be selected."
   ]
  },
  {
   "cell_type": "markdown",
   "metadata": {},
   "source": [
    "# Feature Importance/Selection\n",
    "Here we will use a couple theorems to decide which features are of the greatest important to the best performing KNN model."
   ]
  },
  {
   "cell_type": "code",
   "execution_count": 88,
   "metadata": {},
   "outputs": [
    {
     "name": "stdout",
     "output_type": "stream",
     "text": [
      "F1 Score  0.7407407407407408\n",
      "              precision    recall  f1-score   support\n",
      "\n",
      "           0       0.75      0.69      0.72        13\n",
      "           1       0.71      0.77      0.74        13\n",
      "\n",
      "    accuracy                           0.73        26\n",
      "   macro avg       0.73      0.73      0.73        26\n",
      "weighted avg       0.73      0.73      0.73        26\n",
      "\n"
     ]
    },
    {
     "data": {
      "image/png": "[encoded data removed]",
      "text/plain": [
       "<Figure size 432x288 with 2 Axes>"
      ]
     },
     "metadata": {
      "needs_background": "light"
     },
     "output_type": "display_data"
    }
   ],
   "source": [
    "# Recreate k nearest neighbours model with max f1 score aka where k = 10\n",
    "KNN = KNeighborsClassifier(n_neighbors=10)\n",
    "KNN = KNN.fit(xTrain, yTrain)\n",
    "\n",
    "yPredict = KNN.predict(xTest)\n",
    "\n",
    "resultsReport(yTest, yPredict)"
   ]
  },
  {
   "cell_type": "code",
   "execution_count": 75,
   "metadata": {},
   "outputs": [
    {
     "data": {
      "image/png": "[encoded data removed]",
      "text/plain": [
       "<Figure size 432x288 with 2 Axes>"
      ]
     },
     "metadata": {
      "needs_background": "light"
     },
     "output_type": "display_data"
    },
    {
     "name": "stdout",
     "output_type": "stream",
     "text": [
      "happinessStatus       1.000000\n",
      "onTime                0.280160\n",
      "orderSatisfication    0.224522\n",
      "easyOrdering          0.167669\n",
      "allOrdered            0.150838\n",
      "goodPrice             0.064415\n",
      "expectedContents     -0.024274\n",
      "Name: happinessStatus, dtype: float64\n",
      "Index(['happinessStatus', 'onTime', 'orderSatisfication', 'easyOrdering',\n",
      "       'allOrdered', 'goodPrice', 'expectedContents'],\n",
      "      dtype='object')\n"
     ]
    }
   ],
   "source": [
    "dataCorr = data.corr()\n",
    "sn.heatmap(dataCorr, square = True)\n",
    "plt.title('Data Correlation')\n",
    "plt.show()\n",
    "print(dataCorr['happinessStatus'].sort_values(ascending=False))\n"
   ]
  },
  {
   "cell_type": "markdown",
   "metadata": {},
   "source": [
    "This shows how each variable relates to the happiness status of a customer.  The higher the value the better.  Therefore it showcases that the onTime value correlates the highest and therefore should be one of the most important variables.  onTime and orderSatisfaction are also relatively closely related and therefore should contain similar information."
   ]
  },
  {
   "cell_type": "code",
   "execution_count": 92,
   "metadata": {},
   "outputs": [
    {
     "name": "stdout",
     "output_type": "stream",
     "text": [
      "Index(['onTime', 'expectedContents', 'allOrdered', 'goodPrice',\n",
      "       'orderSatisfication', 'easyOrdering'],\n",
      "      dtype='object')\n",
      "Model results without Index([], dtype='object') features\n",
      "F1 Score  0.7407407407407408\n",
      "              precision    recall  f1-score   support\n",
      "\n",
      "           0       0.75      0.69      0.72        13\n",
      "           1       0.71      0.77      0.74        13\n",
      "\n",
      "    accuracy                           0.73        26\n",
      "   macro avg       0.73      0.73      0.73        26\n",
      "weighted avg       0.73      0.73      0.73        26\n",
      "\n"
     ]
    },
    {
     "data": {
      "image/png": "[encoded data removed]",
      "text/plain": [
       "<Figure size 432x288 with 2 Axes>"
      ]
     },
     "metadata": {
      "needs_background": "light"
     },
     "output_type": "display_data"
    },
    {
     "name": "stdout",
     "output_type": "stream",
     "text": [
      "\n",
      "Index(['onTime', 'expectedContents', 'allOrdered', 'orderSatisfication',\n",
      "       'easyOrdering'],\n",
      "      dtype='object')\n",
      "Model results without Index(['goodPrice'], dtype='object') features\n",
      "F1 Score  0.6153846153846154\n",
      "              precision    recall  f1-score   support\n",
      "\n",
      "           0       0.62      0.62      0.62        13\n",
      "           1       0.62      0.62      0.62        13\n",
      "\n",
      "    accuracy                           0.62        26\n",
      "   macro avg       0.62      0.62      0.62        26\n",
      "weighted avg       0.62      0.62      0.62        26\n",
      "\n"
     ]
    },
    {
     "data": {
      "image/png": "[encoded data removed]",
      "text/plain": [
       "<Figure size 432x288 with 2 Axes>"
      ]
     },
     "metadata": {
      "needs_background": "light"
     },
     "output_type": "display_data"
    },
    {
     "name": "stdout",
     "output_type": "stream",
     "text": [
      "\n",
      "Index(['onTime', 'expectedContents', 'orderSatisfication', 'easyOrdering'], dtype='object')\n",
      "Model results without Index(['goodPrice', 'allOrdered'], dtype='object') features\n",
      "F1 Score  0.6666666666666666\n",
      "              precision    recall  f1-score   support\n",
      "\n",
      "           0       0.67      0.62      0.64        13\n",
      "           1       0.64      0.69      0.67        13\n",
      "\n",
      "    accuracy                           0.65        26\n",
      "   macro avg       0.65      0.65      0.65        26\n",
      "weighted avg       0.65      0.65      0.65        26\n",
      "\n"
     ]
    },
    {
     "data": {
      "image/png": "[encoded data removed]",
      "text/plain": [
       "<Figure size 432x288 with 2 Axes>"
      ]
     },
     "metadata": {
      "needs_background": "light"
     },
     "output_type": "display_data"
    },
    {
     "name": "stdout",
     "output_type": "stream",
     "text": [
      "\n",
      "Index(['onTime', 'expectedContents', 'orderSatisfication'], dtype='object')\n",
      "Model results without Index(['goodPrice', 'allOrdered', 'easyOrdering'], dtype='object') features\n",
      "F1 Score  0.6428571428571429\n",
      "              precision    recall  f1-score   support\n",
      "\n",
      "           0       0.64      0.54      0.58        13\n",
      "           1       0.60      0.69      0.64        13\n",
      "\n",
      "    accuracy                           0.62        26\n",
      "   macro avg       0.62      0.62      0.61        26\n",
      "weighted avg       0.62      0.62      0.61        26\n",
      "\n"
     ]
    },
    {
     "data": {
      "image/png": "[encoded data removed]",
      "text/plain": [
       "<Figure size 432x288 with 2 Axes>"
      ]
     },
     "metadata": {
      "needs_background": "light"
     },
     "output_type": "display_data"
    },
    {
     "name": "stdout",
     "output_type": "stream",
     "text": [
      "\n",
      "Index(['onTime', 'expectedContents'], dtype='object')\n",
      "Model results without Index(['goodPrice', 'allOrdered', 'easyOrdering', 'orderSatisfication'], dtype='object') features\n",
      "F1 Score  0.6451612903225806\n",
      "              precision    recall  f1-score   support\n",
      "\n",
      "           0       0.62      0.38      0.48        13\n",
      "           1       0.56      0.77      0.65        13\n",
      "\n",
      "    accuracy                           0.58        26\n",
      "   macro avg       0.59      0.58      0.56        26\n",
      "weighted avg       0.59      0.58      0.56        26\n",
      "\n"
     ]
    },
    {
     "data": {
      "image/png": "[encoded data removed]",
      "text/plain": [
       "<Figure size 432x288 with 2 Axes>"
      ]
     },
     "metadata": {
      "needs_background": "light"
     },
     "output_type": "display_data"
    },
    {
     "name": "stdout",
     "output_type": "stream",
     "text": [
      "\n"
     ]
    }
   ],
   "source": [
    "featureImportanceOrderCorr = dataCorr['happinessStatus'].sort_values().index[:-1]\n",
    "corrScores = []\n",
    "for i in range(len(featureImportanceOrderCorr[1:])) :\n",
    "    \n",
    "    dropColumns = featureImportanceOrderCorr[1:i+1]\n",
    "\n",
    "    print(xTrain.drop(columns=dropColumns).columns)\n",
    "    # Train new model with dropped columns\n",
    "    KNN_featureSelection = KNN.fit(xTrain.drop(columns=dropColumns),yTrain)\n",
    "    # Make predictions\n",
    "    yPredict = KNN_featureSelection.predict(xTest.drop(columns=dropColumns))\n",
    "    print('Model results without %s features' % dropColumns[:])\n",
    "    resultsReport(yTest, yPredict)\n",
    "    # Append results to corrScores\n",
    "    corrScores.append(f1_score(yTest, yPredict))\n",
    "    print()"
   ]
  },
  {
   "cell_type": "code",
   "execution_count": 94,
   "metadata": {},
   "outputs": [
    {
     "name": "stdout",
     "output_type": "stream",
     "text": [
      "F1 Score  0.7407407407407408\n",
      "              precision    recall  f1-score   support\n",
      "\n",
      "           0       0.75      0.69      0.72        13\n",
      "           1       0.71      0.77      0.74        13\n",
      "\n",
      "    accuracy                           0.73        26\n",
      "   macro avg       0.73      0.73      0.73        26\n",
      "weighted avg       0.73      0.73      0.73        26\n",
      "\n"
     ]
    },
    {
     "data": {
      "image/png": "[encoded data removed]",
      "text/plain": [
       "<Figure size 432x288 with 2 Axes>"
      ]
     },
     "metadata": {
      "needs_background": "light"
     },
     "output_type": "display_data"
    }
   ],
   "source": [
    "# Recreate k nearest neighbours model with max f1 score aka where k = 10\n",
    "KNN = KNeighborsClassifier(n_neighbors=10)\n",
    "KNN = KNN.fit(xTrain, yTrain)\n",
    "\n",
    "yPredict = KNN.predict(xTest)\n",
    "\n",
    "resultsReport(yTest, yPredict)"
   ]
  },
  {
   "cell_type": "code",
   "execution_count": 95,
   "metadata": {},
   "outputs": [
    {
     "data": {
      "image/png": "[encoded data removed]",
      "text/plain": [
       "<Figure size 432x288 with 1 Axes>"
      ]
     },
     "metadata": {
      "needs_background": "light"
     },
     "output_type": "display_data"
    }
   ],
   "source": [
    "from sklearn.inspection import permutation_importance\n",
    "perm_importance = permutation_importance(KNN, xTest, yTest)            \n",
    "sorted_idx = perm_importance.importances_mean.argsort()\n",
    "plt.barh(X.columns[sorted_idx], perm_importance.importances_mean[sorted_idx])\n",
    "plt.title('Feature Importance')\n",
    "plt.ylabel('Features')\n",
    "plt.xlabel('Importance')\n",
    "plt.show()"
   ]
  },
  {
   "cell_type": "code",
   "execution_count": 118,
   "metadata": {},
   "outputs": [
    {
     "name": "stdout",
     "output_type": "stream",
     "text": [
      "Index(['onTime', 'expectedContents', 'allOrdered', 'goodPrice',\n",
      "       'orderSatisfication'],\n",
      "      dtype='object')\n",
      "Model results without Index(['easyOrdering'], dtype='object') features\n",
      "F1 Score  0.5925925925925927\n",
      "              precision    recall  f1-score   support\n",
      "\n",
      "           0       0.58      0.54      0.56        13\n",
      "           1       0.57      0.62      0.59        13\n",
      "\n",
      "    accuracy                           0.58        26\n",
      "   macro avg       0.58      0.58      0.58        26\n",
      "weighted avg       0.58      0.58      0.58        26\n",
      "\n"
     ]
    },
    {
     "data": {
      "image/png": "[encoded data removed]",
      "text/plain": [
       "<Figure size 432x288 with 2 Axes>"
      ]
     },
     "metadata": {
      "needs_background": "light"
     },
     "output_type": "display_data"
    },
    {
     "name": "stdout",
     "output_type": "stream",
     "text": [
      "\n",
      "Index(['onTime', 'expectedContents', 'allOrdered', 'orderSatisfication'], dtype='object')\n",
      "Model results without Index(['easyOrdering', 'goodPrice'], dtype='object') features\n",
      "F1 Score  0.4999999999999999\n",
      "              precision    recall  f1-score   support\n",
      "\n",
      "           0       0.53      0.62      0.57        13\n",
      "           1       0.55      0.46      0.50        13\n",
      "\n",
      "    accuracy                           0.54        26\n",
      "   macro avg       0.54      0.54      0.54        26\n",
      "weighted avg       0.54      0.54      0.54        26\n",
      "\n"
     ]
    },
    {
     "data": {
      "image/png": "[encoded data removed]",
      "text/plain": [
       "<Figure size 432x288 with 2 Axes>"
      ]
     },
     "metadata": {
      "needs_background": "light"
     },
     "output_type": "display_data"
    },
    {
     "name": "stdout",
     "output_type": "stream",
     "text": [
      "\n",
      "Index(['onTime', 'expectedContents', 'allOrdered'], dtype='object')\n",
      "Model results without Index(['easyOrdering', 'goodPrice', 'orderSatisfication'], dtype='object') features\n",
      "F1 Score  0.4761904761904762\n",
      "              precision    recall  f1-score   support\n",
      "\n",
      "           0       0.56      0.77      0.65        13\n",
      "           1       0.62      0.38      0.48        13\n",
      "\n",
      "    accuracy                           0.58        26\n",
      "   macro avg       0.59      0.58      0.56        26\n",
      "weighted avg       0.59      0.58      0.56        26\n",
      "\n"
     ]
    },
    {
     "data": {
      "image/png": "[encoded data removed]",
      "text/plain": [
       "<Figure size 432x288 with 2 Axes>"
      ]
     },
     "metadata": {
      "needs_background": "light"
     },
     "output_type": "display_data"
    },
    {
     "name": "stdout",
     "output_type": "stream",
     "text": [
      "\n",
      "Index(['onTime', 'expectedContents'], dtype='object')\n",
      "Model results without Index(['easyOrdering', 'goodPrice', 'orderSatisfication', 'allOrdered'], dtype='object') features\n",
      "F1 Score  0.6451612903225806\n",
      "              precision    recall  f1-score   support\n",
      "\n",
      "           0       0.62      0.38      0.48        13\n",
      "           1       0.56      0.77      0.65        13\n",
      "\n",
      "    accuracy                           0.58        26\n",
      "   macro avg       0.59      0.58      0.56        26\n",
      "weighted avg       0.59      0.58      0.56        26\n",
      "\n"
     ]
    },
    {
     "data": {
      "image/png": "[encoded data removed]",
      "text/plain": [
       "<Figure size 432x288 with 2 Axes>"
      ]
     },
     "metadata": {
      "needs_background": "light"
     },
     "output_type": "display_data"
    },
    {
     "name": "stdout",
     "output_type": "stream",
     "text": [
      "\n",
      "Index(['onTime'], dtype='object')\n",
      "Model results without Index(['easyOrdering', 'goodPrice', 'orderSatisfication', 'allOrdered',\n",
      "       'expectedContents'],\n",
      "      dtype='object') features\n",
      "F1 Score  0.7407407407407408\n",
      "              precision    recall  f1-score   support\n",
      "\n",
      "           0       0.75      0.69      0.72        13\n",
      "           1       0.71      0.77      0.74        13\n",
      "\n",
      "    accuracy                           0.73        26\n",
      "   macro avg       0.73      0.73      0.73        26\n",
      "weighted avg       0.73      0.73      0.73        26\n",
      "\n"
     ]
    },
    {
     "data": {
      "image/png": "[encoded data removed]",
      "text/plain": [
       "<Figure size 432x288 with 2 Axes>"
      ]
     },
     "metadata": {
      "needs_background": "light"
     },
     "output_type": "display_data"
    },
    {
     "name": "stdout",
     "output_type": "stream",
     "text": [
      "\n"
     ]
    }
   ],
   "source": [
    "# Get list of column names in order from least important to most important\n",
    "featureImportanceOrderPerm = X.columns[sorted_idx]\n",
    "\n",
    "permScores = []\n",
    "\n",
    "for i in range(len(featureImportanceOrderPerm[:-1])) :\n",
    "    # Get name of columns to drop\n",
    "    dropColumns = featureImportanceOrderPerm[0:i+1]\n",
    "\n",
    "    print(xTrain.drop(columns=dropColumns).columns)\n",
    "    # Train new model with dropped columns\n",
    "    KNN_featureSelection = KNN.fit(xTrain.drop(columns=dropColumns),yTrain)\n",
    "    # Make predictions\n",
    "    yPredict = KNN_featureSelection.predict(xTest.drop(columns=dropColumns))\n",
    "    print('Model results without %s features' % dropColumns[:])\n",
    "    resultsReport(yTest, yPredict)\n",
    "    permScores.append(f1_score(yTest,yPredict))\n",
    "    print()\n",
    "                                   "
   ]
  },
  {
   "cell_type": "code",
   "execution_count": 119,
   "metadata": {},
   "outputs": [
    {
     "data": {
      "text/plain": [
       "Text(0.5, 0, 'Feature Eliminated')"
      ]
     },
     "execution_count": 119,
     "metadata": {},
     "output_type": "execute_result"
    },
    {
     "data": {
      "image/png": "[encoded data removed]",
      "text/plain": [
       "<Figure size 432x288 with 1 Axes>"
      ]
     },
     "metadata": {
      "needs_background": "light"
     },
     "output_type": "display_data"
    }
   ],
   "source": [
    "plt.plot(featureImportanceOrderCorr[:-1],corrScores)\n",
    "plt.title('Feature elimination KNN model \\n scores based off of correlation \\nranking')\n",
    "plt.xticks(rotation='vertical')\n",
    "plt.ylabel('F1 Score')\n",
    "plt.xlabel('Feature Eliminated')\n"
   ]
  },
  {
   "cell_type": "code",
   "execution_count": 120,
   "metadata": {},
   "outputs": [
    {
     "data": {
      "text/plain": [
       "Text(0.5, 0, 'Feature Eliminated')"
      ]
     },
     "execution_count": 120,
     "metadata": {},
     "output_type": "execute_result"
    },
    {
     "data": {
      "image/png": "[encoded data removed]",
      "text/plain": [
       "<Figure size 432x288 with 1 Axes>"
      ]
     },
     "metadata": {
      "needs_background": "light"
     },
     "output_type": "display_data"
    }
   ],
   "source": [
    "plt.plot(featureImportanceOrderPerm[:-1],permScores)\n",
    "plt.title('Feature elimination KNN model \\n scores based off of correlation \\nranking')\n",
    "plt.xticks(rotation='vertical')\n",
    "plt.ylabel('F1 Score')\n",
    "plt.xlabel('Feature Eliminated')"
   ]
  },
  {
   "cell_type": "code",
   "execution_count": 115,
   "metadata": {},
   "outputs": [
    {
     "data": {
      "text/plain": [
       "6"
      ]
     },
     "execution_count": 115,
     "metadata": {},
     "output_type": "execute_result"
    }
   ],
   "source": [
    "len(featureImportanceOrderPerm)"
   ]
  },
  {
   "cell_type": "markdown",
   "metadata": {},
   "source": [
    "From the correlation heatmap the features correlation to happinessStatus are ranked: 1. onTime, 2. orderSatisfication, 3. easyOrdering, 4. allOrdered, 5. goodPrice, 6. expectedContents.  The elimination of features from the model decreased the accuracy.\n",
    "\n",
    "From the permutation ranking of feature importance the features are ranked: 1. onTime, 2. expectedContents, 3. allOrdered, 4. orderSatisfaction, 5. goodPrice, easyOrdering."
   ]
  },
  {
   "cell_type": "code",
   "execution_count": null,
   "metadata": {},
   "outputs": [],
   "source": []
  }
 ],
 "metadata": {
  "kernelspec": {
   "display_name": "Python 3",
   "language": "python",
   "name": "python3"
  },
  "language_info": {
   "codemirror_mode": {
    "name": "ipython",
    "version": 3
   },
   "file_extension": ".py",
   "mimetype": "text/x-python",
   "name": "python",
   "nbconvert_exporter": "python",
   "pygments_lexer": "ipython3",
   "version": "3.7.6"
  }
 },
 "nbformat": 4,
 "nbformat_minor": 4
}
